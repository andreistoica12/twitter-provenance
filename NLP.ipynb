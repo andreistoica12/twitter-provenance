{
 "cells": [
  {
   "attachments": {},
   "cell_type": "markdown",
   "metadata": {},
   "source": [
    "Delete all variables in the current environment (if you have already run some cells) - clean state."
   ]
  },
  {
   "cell_type": "code",
   "execution_count": 1,
   "metadata": {},
   "outputs": [],
   "source": [
    "%reset"
   ]
  },
  {
   "attachments": {},
   "cell_type": "markdown",
   "metadata": {},
   "source": [
    "Import all necessary packages."
   ]
  },
  {
   "cell_type": "code",
   "execution_count": 2,
   "metadata": {},
   "outputs": [],
   "source": [
    "import os\n",
    "import shutil\n",
    "import json\n",
    "import pandas as pd\n",
    "import numpy as np\n",
    "import random\n",
    "from collections import defaultdict\n",
    "from collections import Counter\n",
    "from IPython.core.getipython import get_ipython\n",
    "import textwrap\n",
    "from matplotlib import pyplot as plt\n",
    "import networkx as nx"
   ]
  },
  {
   "cell_type": "code",
   "execution_count": 3,
   "metadata": {},
   "outputs": [],
   "source": [
    "rootdir_path = os.getcwd()"
   ]
  },
  {
   "attachments": {},
   "cell_type": "markdown",
   "metadata": {},
   "source": [
    "Replace with the path to the folder where the raw dataset (the initial .csv files) is stored."
   ]
  },
  {
   "cell_type": "code",
   "execution_count": 4,
   "metadata": {},
   "outputs": [],
   "source": [
    "dataset_possibilities = ['15_days', '25_days']"
   ]
  },
  {
   "cell_type": "code",
   "execution_count": 5,
   "metadata": {},
   "outputs": [],
   "source": [
    "number_of_days = dataset_possibilities[1]"
   ]
  },
  {
   "cell_type": "code",
   "execution_count": 6,
   "metadata": {},
   "outputs": [],
   "source": [
    "data_path = os.path.join(rootdir_path, 'data', f'covaxxy_merged_{number_of_days}.csv')"
   ]
  },
  {
   "cell_type": "code",
   "execution_count": 7,
   "metadata": {},
   "outputs": [],
   "source": [
    "# data_path = data_path = os.path.join(rootdir_path, 'data', f'covaxxy_merged_test.csv')"
   ]
  },
  {
   "cell_type": "code",
   "execution_count": 8,
   "metadata": {},
   "outputs": [],
   "source": [
    "files_path = os.path.join(rootdir_path, 'files')"
   ]
  },
  {
   "cell_type": "code",
   "execution_count": 9,
   "metadata": {},
   "outputs": [],
   "source": [
    "path_to_unique_dates = os.path.join(files_path, f'unique_dates_{number_of_days}.txt')"
   ]
  },
  {
   "cell_type": "code",
   "execution_count": 10,
   "metadata": {},
   "outputs": [],
   "source": [
    "opinion_changes_path = os.path.join(files_path, f'opinion-changes-{number_of_days}')"
   ]
  },
  {
   "cell_type": "code",
   "execution_count": 11,
   "metadata": {},
   "outputs": [],
   "source": [
    "graphs_path = os.path.join(rootdir_path, 'graphs')"
   ]
  },
  {
   "cell_type": "code",
   "execution_count": 12,
   "metadata": {},
   "outputs": [],
   "source": [
    "covaxxy_graphs_path = os.path.join(graphs_path, 'covaxxy')"
   ]
  },
  {
   "attachments": {},
   "cell_type": "markdown",
   "metadata": {},
   "source": [
    "Create subfolders specific to the different types of analyses performed in the project."
   ]
  },
  {
   "attachments": {},
   "cell_type": "markdown",
   "metadata": {},
   "source": [
    "Create 1 subfolder within the graphs/covaxxy/ folder to store graphs referring to differences in opinion changes for the covaxxy dataset. If it already existed (from previous runnings of the project), delete the folder and its contents and create an empty folder to store the current graphs, relevant to the current state of the project."
   ]
  },
  {
   "cell_type": "code",
   "execution_count": 13,
   "metadata": {},
   "outputs": [],
   "source": [
    "covaxxy_deltas_OC_graphs_path = os.path.join(covaxxy_graphs_path, f'deltas-OC-{number_of_days}')\n",
    "if os.path.exists(covaxxy_deltas_OC_graphs_path):\n",
    "   shutil.rmtree(covaxxy_deltas_OC_graphs_path, ignore_errors=False, onerror=None)\n",
    "os.makedirs(covaxxy_deltas_OC_graphs_path)"
   ]
  },
  {
   "cell_type": "code",
   "execution_count": 14,
   "metadata": {},
   "outputs": [],
   "source": [
    "covaxxy_networks_graphs_path = os.path.join(covaxxy_graphs_path, f'networks-{number_of_days}')\n",
    "if os.path.exists(covaxxy_networks_graphs_path):\n",
    "   shutil.rmtree(covaxxy_networks_graphs_path, ignore_errors=False, onerror=None)\n",
    "os.makedirs(covaxxy_networks_graphs_path)"
   ]
  },
  {
   "cell_type": "code",
   "execution_count": 15,
   "metadata": {},
   "outputs": [],
   "source": [
    "covaxxy_networks_quotes_graphs_path = os.path.join(covaxxy_networks_graphs_path, 'quotes')\n",
    "if os.path.exists(covaxxy_networks_quotes_graphs_path):\n",
    "   shutil.rmtree(covaxxy_networks_quotes_graphs_path, ignore_errors=False, onerror=None)\n",
    "os.makedirs(covaxxy_networks_quotes_graphs_path)"
   ]
  },
  {
   "cell_type": "code",
   "execution_count": 16,
   "metadata": {},
   "outputs": [],
   "source": [
    "covaxxy_networks_replies_graphs_path = os.path.join(covaxxy_networks_graphs_path, 'replies')\n",
    "if os.path.exists(covaxxy_networks_replies_graphs_path):\n",
    "   shutil.rmtree(covaxxy_networks_replies_graphs_path, ignore_errors=False, onerror=None)\n",
    "os.makedirs(covaxxy_networks_replies_graphs_path)"
   ]
  },
  {
   "cell_type": "code",
   "execution_count": 17,
   "metadata": {},
   "outputs": [],
   "source": [
    "covaxxy_networks_retweets_graphs_path = os.path.join(covaxxy_networks_graphs_path, 'retweets')\n",
    "if os.path.exists(covaxxy_networks_retweets_graphs_path):\n",
    "   shutil.rmtree(covaxxy_networks_retweets_graphs_path, ignore_errors=False, onerror=None)\n",
    "os.makedirs(covaxxy_networks_retweets_graphs_path)"
   ]
  },
  {
   "cell_type": "code",
   "execution_count": 109,
   "metadata": {},
   "outputs": [],
   "source": [
    "# covaxxy_longitudinal_analysis_graphs_path = os.path.join(covaxxy_graphs_path, 'longitudinal-analysis')\n",
    "# if os.path.exists(covaxxy_longitudinal_analysis_graphs_path):\n",
    "#    shutil.rmtree(covaxxy_longitudinal_analysis_graphs_path, ignore_errors=False, onerror=None)\n",
    "# os.makedirs(covaxxy_longitudinal_analysis_graphs_path)"
   ]
  },
  {
   "cell_type": "code",
   "execution_count": 110,
   "metadata": {},
   "outputs": [],
   "source": [
    "merged_days = pd.read_csv(data_path)"
   ]
  },
  {
   "cell_type": "code",
   "execution_count": 111,
   "metadata": {},
   "outputs": [],
   "source": [
    "def string_to_int(reference_id):\n",
    "    try:\n",
    "        return int(reference_id)\n",
    "    except ValueError:\n",
    "        return reference_id"
   ]
  },
  {
   "cell_type": "code",
   "execution_count": 112,
   "metadata": {},
   "outputs": [],
   "source": [
    "merged_days['reference_id'] = merged_days['reference_id'].apply(string_to_int)"
   ]
  },
  {
   "cell_type": "code",
   "execution_count": 113,
   "metadata": {},
   "outputs": [],
   "source": [
    "# Convert the 'created_at' column to datetime\n",
    "merged_days['created_at'] = pd.to_datetime(merged_days['created_at'])"
   ]
  },
  {
   "cell_type": "code",
   "execution_count": 114,
   "metadata": {},
   "outputs": [
    {
     "data": {
      "text/html": [
       "<div>\n",
       "<style scoped>\n",
       "    .dataframe tbody tr th:only-of-type {\n",
       "        vertical-align: middle;\n",
       "    }\n",
       "\n",
       "    .dataframe tbody tr th {\n",
       "        vertical-align: top;\n",
       "    }\n",
       "\n",
       "    .dataframe thead th {\n",
       "        text-align: right;\n",
       "    }\n",
       "</style>\n",
       "<table border=\"1\" class=\"dataframe\">\n",
       "  <thead>\n",
       "    <tr style=\"text-align: right;\">\n",
       "      <th></th>\n",
       "      <th>created_at</th>\n",
       "      <th>tweet_id</th>\n",
       "      <th>credible</th>\n",
       "      <th>author_id</th>\n",
       "      <th>text</th>\n",
       "      <th>urls</th>\n",
       "      <th>name</th>\n",
       "      <th>username</th>\n",
       "      <th>verified</th>\n",
       "      <th>location</th>\n",
       "      <th>...</th>\n",
       "      <th>retweet_author_id</th>\n",
       "      <th>retweet_id</th>\n",
       "      <th>retweeted_screen_name</th>\n",
       "      <th>user_mentions_id</th>\n",
       "      <th>user_mentions_screen_name</th>\n",
       "      <th>in_reply_to_user_id</th>\n",
       "      <th>in_reply_to_tweet_id</th>\n",
       "      <th>in_reply_to_username</th>\n",
       "      <th>reference_type</th>\n",
       "      <th>reference_id</th>\n",
       "    </tr>\n",
       "  </thead>\n",
       "  <tbody>\n",
       "    <tr>\n",
       "      <th>0</th>\n",
       "      <td>2021-02-24 18:00:10+00:00</td>\n",
       "      <td>1364636249852502018</td>\n",
       "      <td>1</td>\n",
       "      <td>107501328</td>\n",
       "      <td>RT @Maricopahealth: At one of our community po...</td>\n",
       "      <td>#</td>\n",
       "      <td>2-1-1 Arizona</td>\n",
       "      <td>211arizona</td>\n",
       "      <td>False</td>\n",
       "      <td>Arizona</td>\n",
       "      <td>...</td>\n",
       "      <td>29816986</td>\n",
       "      <td>1364632754042802176</td>\n",
       "      <td>Maricopahealth</td>\n",
       "      <td>29816986</td>\n",
       "      <td>Maricopahealth</td>\n",
       "      <td>#</td>\n",
       "      <td>#</td>\n",
       "      <td>#</td>\n",
       "      <td>retweeted</td>\n",
       "      <td>1364632754042802176</td>\n",
       "    </tr>\n",
       "    <tr>\n",
       "      <th>1</th>\n",
       "      <td>2021-02-24 18:00:18+00:00</td>\n",
       "      <td>1364636282664574978</td>\n",
       "      <td>1</td>\n",
       "      <td>26761523</td>\n",
       "      <td>Ready for DAY 2 of State of the Valley? Join u...</td>\n",
       "      <td>jointventure.org,twitter.com,</td>\n",
       "      <td>Joint Venture SV</td>\n",
       "      <td>JointVentureSVN</td>\n",
       "      <td>False</td>\n",
       "      <td>San Jose, CA</td>\n",
       "      <td>...</td>\n",
       "      <td>#</td>\n",
       "      <td>#</td>\n",
       "      <td>#</td>\n",
       "      <td>#</td>\n",
       "      <td>#</td>\n",
       "      <td>#</td>\n",
       "      <td>#</td>\n",
       "      <td>#</td>\n",
       "      <td>#</td>\n",
       "      <td>#</td>\n",
       "    </tr>\n",
       "    <tr>\n",
       "      <th>2</th>\n",
       "      <td>2021-02-24 18:00:30+00:00</td>\n",
       "      <td>1364636333596008449</td>\n",
       "      <td>1</td>\n",
       "      <td>1234926105234034689</td>\n",
       "      <td>RT @SteveStaeger: When #COVID19Colorado is ove...</td>\n",
       "      <td>#</td>\n",
       "      <td>Colorado Coronavirus Updates</td>\n",
       "      <td>COVIDinColorado</td>\n",
       "      <td>False</td>\n",
       "      <td>Denver, Colorado</td>\n",
       "      <td>...</td>\n",
       "      <td>182037688</td>\n",
       "      <td>1364293582157307906</td>\n",
       "      <td>SteveStaeger</td>\n",
       "      <td>182037688</td>\n",
       "      <td>SteveStaeger</td>\n",
       "      <td>#</td>\n",
       "      <td>#</td>\n",
       "      <td>#</td>\n",
       "      <td>retweeted</td>\n",
       "      <td>1364293582157307906</td>\n",
       "    </tr>\n",
       "    <tr>\n",
       "      <th>3</th>\n",
       "      <td>2021-02-24 18:03:16+00:00</td>\n",
       "      <td>1364637028948709377</td>\n",
       "      <td>1</td>\n",
       "      <td>1329106574082641920</td>\n",
       "      <td>#SD37: Starting next week, @OCHealth will star...</td>\n",
       "      <td>bit.ly,www.ocregister.com,</td>\n",
       "      <td>Senator Dave Min</td>\n",
       "      <td>SenDaveMin</td>\n",
       "      <td>True</td>\n",
       "      <td>Irvine, CA</td>\n",
       "      <td>...</td>\n",
       "      <td>#</td>\n",
       "      <td>#</td>\n",
       "      <td>#</td>\n",
       "      <td>36069538</td>\n",
       "      <td>ochealth</td>\n",
       "      <td>#</td>\n",
       "      <td>#</td>\n",
       "      <td>#</td>\n",
       "      <td>#</td>\n",
       "      <td>#</td>\n",
       "    </tr>\n",
       "    <tr>\n",
       "      <th>4</th>\n",
       "      <td>2021-02-24 18:03:35+00:00</td>\n",
       "      <td>1364637110951583746</td>\n",
       "      <td>1</td>\n",
       "      <td>1363750425459970048</td>\n",
       "      <td>RT @jatinde45666597: Vaccination has been star...</td>\n",
       "      <td>#</td>\n",
       "      <td>Reena Sharma</td>\n",
       "      <td>write2reena</td>\n",
       "      <td>False</td>\n",
       "      <td>Auckland, New Zealand</td>\n",
       "      <td>...</td>\n",
       "      <td>1295748297529884673</td>\n",
       "      <td>1364087633538859008</td>\n",
       "      <td>jatinde45666597</td>\n",
       "      <td>1295748297529884673</td>\n",
       "      <td>jatinde45666597</td>\n",
       "      <td>#</td>\n",
       "      <td>#</td>\n",
       "      <td>#</td>\n",
       "      <td>retweeted</td>\n",
       "      <td>1364087633538859008</td>\n",
       "    </tr>\n",
       "    <tr>\n",
       "      <th>...</th>\n",
       "      <td>...</td>\n",
       "      <td>...</td>\n",
       "      <td>...</td>\n",
       "      <td>...</td>\n",
       "      <td>...</td>\n",
       "      <td>...</td>\n",
       "      <td>...</td>\n",
       "      <td>...</td>\n",
       "      <td>...</td>\n",
       "      <td>...</td>\n",
       "      <td>...</td>\n",
       "      <td>...</td>\n",
       "      <td>...</td>\n",
       "      <td>...</td>\n",
       "      <td>...</td>\n",
       "      <td>...</td>\n",
       "      <td>...</td>\n",
       "      <td>...</td>\n",
       "      <td>...</td>\n",
       "      <td>...</td>\n",
       "      <td>...</td>\n",
       "    </tr>\n",
       "    <tr>\n",
       "      <th>10723864</th>\n",
       "      <td>2021-03-20 23:59:42+00:00</td>\n",
       "      <td>1373424038111023106</td>\n",
       "      <td>1</td>\n",
       "      <td>827349983577796608</td>\n",
       "      <td>RT @altNOAA: PSA: If you're in #Oklahoma and a...</td>\n",
       "      <td>#</td>\n",
       "      <td>Howard Hudson</td>\n",
       "      <td>hwrdhdsn</td>\n",
       "      <td>False</td>\n",
       "      <td>Medford, OR</td>\n",
       "      <td>...</td>\n",
       "      <td>824126001936474113</td>\n",
       "      <td>1373418517484220418</td>\n",
       "      <td>altNOAA</td>\n",
       "      <td>824126001936474113</td>\n",
       "      <td>altNOAA</td>\n",
       "      <td>#</td>\n",
       "      <td>#</td>\n",
       "      <td>#</td>\n",
       "      <td>retweeted</td>\n",
       "      <td>1373418517484220418</td>\n",
       "    </tr>\n",
       "    <tr>\n",
       "      <th>10723865</th>\n",
       "      <td>2021-03-20 23:59:42+00:00</td>\n",
       "      <td>1373424038895321101</td>\n",
       "      <td>1</td>\n",
       "      <td>828337737388285952</td>\n",
       "      <td>RT @maura_resister: Covid rates are trending i...</td>\n",
       "      <td>#</td>\n",
       "      <td>KY R.N. Votes Blue😷🦋🌊</td>\n",
       "      <td>changemustcome7</td>\n",
       "      <td>False</td>\n",
       "      <td>Blue dot in red state</td>\n",
       "      <td>...</td>\n",
       "      <td>1167775229109837825</td>\n",
       "      <td>1373420544830361602</td>\n",
       "      <td>maura_resister</td>\n",
       "      <td>1167775229109837825</td>\n",
       "      <td>maura_resister</td>\n",
       "      <td>#</td>\n",
       "      <td>#</td>\n",
       "      <td>#</td>\n",
       "      <td>retweeted</td>\n",
       "      <td>1373420544830361602</td>\n",
       "    </tr>\n",
       "    <tr>\n",
       "      <th>10723866</th>\n",
       "      <td>2021-03-20 23:59:43+00:00</td>\n",
       "      <td>1373424044100440072</td>\n",
       "      <td>1</td>\n",
       "      <td>126514742</td>\n",
       "      <td>RT @Best_of_PT: The tiny island of #Corvo in t...</td>\n",
       "      <td>#</td>\n",
       "      <td>Javier RG</td>\n",
       "      <td>Rxavier23</td>\n",
       "      <td>False</td>\n",
       "      <td>#</td>\n",
       "      <td>...</td>\n",
       "      <td>894905209159331840</td>\n",
       "      <td>1373313858476068869</td>\n",
       "      <td>Best_of_PT</td>\n",
       "      <td>894905209159331840</td>\n",
       "      <td>Best_of_PT</td>\n",
       "      <td>#</td>\n",
       "      <td>#</td>\n",
       "      <td>#</td>\n",
       "      <td>retweeted</td>\n",
       "      <td>1373313858476068869</td>\n",
       "    </tr>\n",
       "    <tr>\n",
       "      <th>10723867</th>\n",
       "      <td>2021-03-20 23:59:43+00:00</td>\n",
       "      <td>1373424044318420993</td>\n",
       "      <td>1</td>\n",
       "      <td>2918822815</td>\n",
       "      <td>@sethsliltweeter @EncoreBeachClub That’s a goo...</td>\n",
       "      <td>#</td>\n",
       "      <td>Jason Titus</td>\n",
       "      <td>eezeemonee</td>\n",
       "      <td>False</td>\n",
       "      <td>San Jose, CA</td>\n",
       "      <td>...</td>\n",
       "      <td>#</td>\n",
       "      <td>#</td>\n",
       "      <td>#</td>\n",
       "      <td>1289682623757918209</td>\n",
       "      <td>sethsliltweeter</td>\n",
       "      <td>1289682623757918209</td>\n",
       "      <td>1373417100472033283</td>\n",
       "      <td>sethsliltweeter</td>\n",
       "      <td>replied_to</td>\n",
       "      <td>1373417100472033283</td>\n",
       "    </tr>\n",
       "    <tr>\n",
       "      <th>10723868</th>\n",
       "      <td>2021-03-20 23:59:43+00:00</td>\n",
       "      <td>1373424044498956288</td>\n",
       "      <td>1</td>\n",
       "      <td>1340748784121360388</td>\n",
       "      <td>RT @youth_unheard: Such a great atmosphere tod...</td>\n",
       "      <td>#</td>\n",
       "      <td>Sara</td>\n",
       "      <td>Sara31885520</td>\n",
       "      <td>False</td>\n",
       "      <td>#</td>\n",
       "      <td>...</td>\n",
       "      <td>1308059523458961409</td>\n",
       "      <td>1373381756188028932</td>\n",
       "      <td>youth_unheard</td>\n",
       "      <td>1308059523458961409</td>\n",
       "      <td>youth_unheard</td>\n",
       "      <td>#</td>\n",
       "      <td>#</td>\n",
       "      <td>#</td>\n",
       "      <td>retweeted</td>\n",
       "      <td>1373381756188028932</td>\n",
       "    </tr>\n",
       "  </tbody>\n",
       "</table>\n",
       "<p>10723869 rows × 27 columns</p>\n",
       "</div>"
      ],
      "text/plain": [
       "                        created_at             tweet_id  credible  \\\n",
       "0        2021-02-24 18:00:10+00:00  1364636249852502018         1   \n",
       "1        2021-02-24 18:00:18+00:00  1364636282664574978         1   \n",
       "2        2021-02-24 18:00:30+00:00  1364636333596008449         1   \n",
       "3        2021-02-24 18:03:16+00:00  1364637028948709377         1   \n",
       "4        2021-02-24 18:03:35+00:00  1364637110951583746         1   \n",
       "...                            ...                  ...       ...   \n",
       "10723864 2021-03-20 23:59:42+00:00  1373424038111023106         1   \n",
       "10723865 2021-03-20 23:59:42+00:00  1373424038895321101         1   \n",
       "10723866 2021-03-20 23:59:43+00:00  1373424044100440072         1   \n",
       "10723867 2021-03-20 23:59:43+00:00  1373424044318420993         1   \n",
       "10723868 2021-03-20 23:59:43+00:00  1373424044498956288         1   \n",
       "\n",
       "                    author_id  \\\n",
       "0                   107501328   \n",
       "1                    26761523   \n",
       "2         1234926105234034689   \n",
       "3         1329106574082641920   \n",
       "4         1363750425459970048   \n",
       "...                       ...   \n",
       "10723864   827349983577796608   \n",
       "10723865   828337737388285952   \n",
       "10723866            126514742   \n",
       "10723867           2918822815   \n",
       "10723868  1340748784121360388   \n",
       "\n",
       "                                                       text  \\\n",
       "0         RT @Maricopahealth: At one of our community po...   \n",
       "1         Ready for DAY 2 of State of the Valley? Join u...   \n",
       "2         RT @SteveStaeger: When #COVID19Colorado is ove...   \n",
       "3         #SD37: Starting next week, @OCHealth will star...   \n",
       "4         RT @jatinde45666597: Vaccination has been star...   \n",
       "...                                                     ...   \n",
       "10723864  RT @altNOAA: PSA: If you're in #Oklahoma and a...   \n",
       "10723865  RT @maura_resister: Covid rates are trending i...   \n",
       "10723866  RT @Best_of_PT: The tiny island of #Corvo in t...   \n",
       "10723867  @sethsliltweeter @EncoreBeachClub That’s a goo...   \n",
       "10723868  RT @youth_unheard: Such a great atmosphere tod...   \n",
       "\n",
       "                                   urls                          name  \\\n",
       "0                                     #                 2-1-1 Arizona   \n",
       "1         jointventure.org,twitter.com,              Joint Venture SV   \n",
       "2                                     #  Colorado Coronavirus Updates   \n",
       "3            bit.ly,www.ocregister.com,              Senator Dave Min   \n",
       "4                                     #                  Reena Sharma   \n",
       "...                                 ...                           ...   \n",
       "10723864                              #                 Howard Hudson   \n",
       "10723865                              #         KY R.N. Votes Blue😷🦋🌊   \n",
       "10723866                              #                     Javier RG   \n",
       "10723867                              #                   Jason Titus   \n",
       "10723868                              #                          Sara   \n",
       "\n",
       "                 username  verified               location  ...  \\\n",
       "0              211arizona     False                Arizona  ...   \n",
       "1         JointVentureSVN     False           San Jose, CA  ...   \n",
       "2         COVIDinColorado     False       Denver, Colorado  ...   \n",
       "3              SenDaveMin      True             Irvine, CA  ...   \n",
       "4             write2reena     False  Auckland, New Zealand  ...   \n",
       "...                   ...       ...                    ...  ...   \n",
       "10723864         hwrdhdsn     False            Medford, OR  ...   \n",
       "10723865  changemustcome7     False  Blue dot in red state  ...   \n",
       "10723866        Rxavier23     False                      #  ...   \n",
       "10723867       eezeemonee     False           San Jose, CA  ...   \n",
       "10723868     Sara31885520     False                      #  ...   \n",
       "\n",
       "            retweet_author_id           retweet_id  retweeted_screen_name  \\\n",
       "0                    29816986  1364632754042802176         Maricopahealth   \n",
       "1                           #                    #                      #   \n",
       "2                   182037688  1364293582157307906           SteveStaeger   \n",
       "3                           #                    #                      #   \n",
       "4         1295748297529884673  1364087633538859008        jatinde45666597   \n",
       "...                       ...                  ...                    ...   \n",
       "10723864   824126001936474113  1373418517484220418                altNOAA   \n",
       "10723865  1167775229109837825  1373420544830361602         maura_resister   \n",
       "10723866   894905209159331840  1373313858476068869             Best_of_PT   \n",
       "10723867                    #                    #                      #   \n",
       "10723868  1308059523458961409  1373381756188028932          youth_unheard   \n",
       "\n",
       "             user_mentions_id  user_mentions_screen_name  in_reply_to_user_id  \\\n",
       "0                    29816986             Maricopahealth                    #   \n",
       "1                           #                          #                    #   \n",
       "2                   182037688               SteveStaeger                    #   \n",
       "3                    36069538                   ochealth                    #   \n",
       "4         1295748297529884673            jatinde45666597                    #   \n",
       "...                       ...                        ...                  ...   \n",
       "10723864   824126001936474113                    altNOAA                    #   \n",
       "10723865  1167775229109837825             maura_resister                    #   \n",
       "10723866   894905209159331840                 Best_of_PT                    #   \n",
       "10723867  1289682623757918209            sethsliltweeter  1289682623757918209   \n",
       "10723868  1308059523458961409              youth_unheard                    #   \n",
       "\n",
       "          in_reply_to_tweet_id in_reply_to_username reference_type  \\\n",
       "0                            #                    #      retweeted   \n",
       "1                            #                    #              #   \n",
       "2                            #                    #      retweeted   \n",
       "3                            #                    #              #   \n",
       "4                            #                    #      retweeted   \n",
       "...                        ...                  ...            ...   \n",
       "10723864                     #                    #      retweeted   \n",
       "10723865                     #                    #      retweeted   \n",
       "10723866                     #                    #      retweeted   \n",
       "10723867   1373417100472033283      sethsliltweeter     replied_to   \n",
       "10723868                     #                    #      retweeted   \n",
       "\n",
       "                 reference_id  \n",
       "0         1364632754042802176  \n",
       "1                           #  \n",
       "2         1364293582157307906  \n",
       "3                           #  \n",
       "4         1364087633538859008  \n",
       "...                       ...  \n",
       "10723864  1373418517484220418  \n",
       "10723865  1373420544830361602  \n",
       "10723866  1373313858476068869  \n",
       "10723867  1373417100472033283  \n",
       "10723868  1373381756188028932  \n",
       "\n",
       "[10723869 rows x 27 columns]"
      ]
     },
     "execution_count": 114,
     "metadata": {},
     "output_type": "execute_result"
    }
   ],
   "source": [
    "merged_days"
   ]
  },
  {
   "cell_type": "code",
   "execution_count": 115,
   "metadata": {},
   "outputs": [
    {
     "data": {
      "text/plain": [
       "Index(['created_at', 'tweet_id', 'credible', 'author_id', 'text', 'urls',\n",
       "       'name', 'username', 'verified', 'location', 'followers_count',\n",
       "       'following_count', 'tweet_count', 'like_count', 'quote_count',\n",
       "       'reply_count', 'retweet_count', 'retweet_author_id', 'retweet_id',\n",
       "       'retweeted_screen_name', 'user_mentions_id',\n",
       "       'user_mentions_screen_name', 'in_reply_to_user_id',\n",
       "       'in_reply_to_tweet_id', 'in_reply_to_username', 'reference_type',\n",
       "       'reference_id'],\n",
       "      dtype='object')"
      ]
     },
     "execution_count": 115,
     "metadata": {},
     "output_type": "execute_result"
    }
   ],
   "source": [
    "merged_days.columns"
   ]
  },
  {
   "cell_type": "markdown",
   "metadata": {},
   "source": [
    "MODEL3"
   ]
  },
  {
   "cell_type": "code",
   "execution_count": 116,
   "metadata": {},
   "outputs": [],
   "source": [
    "from timezonefinder import TimezoneFinder\n",
    "from geopy.geocoders import Nominatim\n",
    "import pytz\n",
    "\n",
    "def get_timezone_from_location(location_name):\n",
    "    geolocator = Nominatim(user_agent=\"timezone_finder\")\n",
    "    location = geolocator.geocode(location_name)\n",
    "\n",
    "    if location is None:\n",
    "        return None  # Unable to find location\n",
    "\n",
    "    # Get latitude and longitude from the location\n",
    "    latitude, longitude = location.latitude, location.longitude\n",
    "\n",
    "    # Use timezonefinder to get the timezone from latitude and longitude\n",
    "    timezone_finder = TimezoneFinder()\n",
    "    timezone_str = timezone_finder.timezone_at(lng=longitude, lat=latitude)\n",
    "\n",
    "    if timezone_str is not None:\n",
    "        timezone = pytz.timezone(timezone_str)\n",
    "        return timezone\n",
    "    else:\n",
    "        return None\n"
   ]
  },
  {
   "cell_type": "code",
   "execution_count": 117,
   "metadata": {},
   "outputs": [],
   "source": [
    "counter = 1"
   ]
  },
  {
   "cell_type": "code",
   "execution_count": 118,
   "metadata": {},
   "outputs": [],
   "source": [
    "def tweet_convert_utc_to_local_timezone(tweet_id, dataset):\n",
    "    utc_time = dataset.loc[dataset[\"tweet_id\"] == tweet_id, 'created_at'].item()\n",
    "    location_name = dataset.loc[dataset[\"tweet_id\"] == tweet_id, 'location'].item()\n",
    "    timezone = get_timezone_from_location(location_name)\n",
    "\n",
    "    global counter\n",
    "    # print(f\"Tweet {dataset[dataset['tweet_id'] == tweet_id].index[0]} / {len(dataset) - 1}\")\n",
    "    print(f\"Tweet {counter} / {len(dataset)}\")\n",
    "    counter+=1\n",
    "\n",
    "    return utc_time.astimezone(timezone)"
   ]
  },
  {
   "cell_type": "code",
   "execution_count": 119,
   "metadata": {},
   "outputs": [],
   "source": [
    "def df_convert_utc_to_local_timezone(dataset):\n",
    "    dataset['created_at'] = dataset.apply(lambda row: tweet_convert_utc_to_local_timezone(row['tweet_id'], dataset), axis=1)"
   ]
  },
  {
   "cell_type": "code",
   "execution_count": 120,
   "metadata": {},
   "outputs": [],
   "source": [
    "march1 = merged_days[merged_days['created_at'].dt.date == pd.to_datetime('2021-03-01').date()]"
   ]
  },
  {
   "cell_type": "code",
   "execution_count": 121,
   "metadata": {},
   "outputs": [],
   "source": [
    "# Filter the dataset and keep only the reactions. Remove source tweets.\n",
    "tweets_with_location = march1[march1['location'] != '#']"
   ]
  },
  {
   "cell_type": "code",
   "execution_count": 123,
   "metadata": {},
   "outputs": [],
   "source": [
    "# Get the top 3000 rows with the largest 'like_count' values\n",
    "top_3000_rows = tweets_with_location.nlargest(3000, 'like_count')"
   ]
  },
  {
   "cell_type": "code",
   "execution_count": 124,
   "metadata": {},
   "outputs": [],
   "source": [
    "top_10_rows = tweets_with_location.nlargest(10, 'like_count')"
   ]
  },
  {
   "cell_type": "code",
   "execution_count": 127,
   "metadata": {},
   "outputs": [
    {
     "name": "stdout",
     "output_type": "stream",
     "text": [
      "Tweet 1 / 10\n",
      "Tweet 2 / 10\n",
      "Tweet 3 / 10\n",
      "Tweet 4 / 10\n",
      "Tweet 5 / 10\n",
      "Tweet 6 / 10\n",
      "Tweet 7 / 10\n",
      "Tweet 8 / 10\n",
      "Tweet 9 / 10\n",
      "Tweet 10 / 10\n"
     ]
    }
   ],
   "source": [
    "df_convert_utc_to_local_timezone(top_10_rows)"
   ]
  },
  {
   "cell_type": "code",
   "execution_count": 143,
   "metadata": {},
   "outputs": [],
   "source": [
    "top_10_rows.index.name = 'index'"
   ]
  },
  {
   "cell_type": "code",
   "execution_count": 145,
   "metadata": {},
   "outputs": [],
   "source": [
    "top_10_rows.to_csv(\"top_10_most_liked_march_1.csv\")"
   ]
  },
  {
   "cell_type": "code",
   "execution_count": 146,
   "metadata": {},
   "outputs": [],
   "source": [
    "top_10_rows_from_csv = pd.read_csv(\"top_10_most_liked_march_1.csv\")"
   ]
  },
  {
   "cell_type": "code",
   "execution_count": 148,
   "metadata": {},
   "outputs": [],
   "source": [
    "top_10_rows_from_csv.set_index('index', inplace=True)"
   ]
  },
  {
   "cell_type": "code",
   "execution_count": 154,
   "metadata": {},
   "outputs": [],
   "source": [
    "top_10_rows_from_csv['created_at'] = pd.to_datetime(top_10_rows_from_csv['created_at'])"
   ]
  },
  {
   "cell_type": "code",
   "execution_count": 156,
   "metadata": {},
   "outputs": [
    {
     "data": {
      "text/plain": [
       "datetime.datetime(2021, 3, 1, 7, 6, 35, tzinfo=tzoffset(None, 19800))"
      ]
     },
     "execution_count": 156,
     "metadata": {},
     "output_type": "execute_result"
    }
   ],
   "source": [
    "top_10_rows_from_csv.loc[30333, 'created_at']"
   ]
  },
  {
   "cell_type": "code",
   "execution_count": null,
   "metadata": {},
   "outputs": [],
   "source": [
    "# TODO:\n",
    "# - iau ca timepoint o zi din cele 20\n",
    "# - o impart in 3 intervale: 9-17 (8h), 17-24(7h), 0-9 (9h)\n",
    "# - pe o zi, fac top 3000 cele mai liked tweets\n",
    "# - convertesc la timezone local toate cele 3000 tweets\n",
    "\n",
    "# OTHER TASKS:\n",
    "# - cele 3000 de tweet-uri cu tiemzone local le scriu in fisier, ca dureaza foarte mult rularea\n",
    "# => trbuie sa vad cum fac sa pastrez informatiile de tiemzone\n",
    "# => pipeline de scriere + citire in fisier corecta, in proiectul Maven o sa pun doar citirea dintr-un fisier cu \n",
    "# top 3000 most liked tweets in fiecare zi\n",
    "\n",
    "# TODO Java:\n",
    "# - template si binding pentru model 3"
   ]
  },
  {
   "cell_type": "code",
   "execution_count": null,
   "metadata": {},
   "outputs": [],
   "source": []
  },
  {
   "cell_type": "code",
   "execution_count": null,
   "metadata": {},
   "outputs": [],
   "source": []
  },
  {
   "cell_type": "code",
   "execution_count": null,
   "metadata": {},
   "outputs": [],
   "source": []
  },
  {
   "cell_type": "code",
   "execution_count": null,
   "metadata": {},
   "outputs": [],
   "source": []
  },
  {
   "cell_type": "code",
   "execution_count": null,
   "metadata": {},
   "outputs": [],
   "source": []
  },
  {
   "cell_type": "code",
   "execution_count": null,
   "metadata": {},
   "outputs": [],
   "source": []
  },
  {
   "cell_type": "code",
   "execution_count": null,
   "metadata": {},
   "outputs": [],
   "source": []
  },
  {
   "cell_type": "code",
   "execution_count": null,
   "metadata": {},
   "outputs": [],
   "source": []
  },
  {
   "cell_type": "code",
   "execution_count": null,
   "metadata": {},
   "outputs": [],
   "source": []
  },
  {
   "cell_type": "code",
   "execution_count": null,
   "metadata": {},
   "outputs": [],
   "source": []
  },
  {
   "cell_type": "code",
   "execution_count": null,
   "metadata": {},
   "outputs": [],
   "source": []
  },
  {
   "cell_type": "code",
   "execution_count": null,
   "metadata": {},
   "outputs": [],
   "source": []
  },
  {
   "cell_type": "code",
   "execution_count": null,
   "metadata": {},
   "outputs": [],
   "source": []
  },
  {
   "cell_type": "code",
   "execution_count": null,
   "metadata": {},
   "outputs": [],
   "source": []
  },
  {
   "cell_type": "code",
   "execution_count": null,
   "metadata": {},
   "outputs": [],
   "source": []
  },
  {
   "cell_type": "code",
   "execution_count": null,
   "metadata": {},
   "outputs": [],
   "source": []
  },
  {
   "cell_type": "code",
   "execution_count": null,
   "metadata": {},
   "outputs": [],
   "source": []
  },
  {
   "cell_type": "markdown",
   "metadata": {},
   "source": [
    "MODEL2"
   ]
  },
  {
   "cell_type": "code",
   "execution_count": 25,
   "metadata": {},
   "outputs": [],
   "source": [
    "# Filter the dataset and keep only the reactions. Remove source tweets.\n",
    "all_reactions = merged_days[merged_days['reference_id'] != '#']"
   ]
  },
  {
   "cell_type": "code",
   "execution_count": 26,
   "metadata": {},
   "outputs": [
    {
     "data": {
      "text/html": [
       "<div>\n",
       "<style scoped>\n",
       "    .dataframe tbody tr th:only-of-type {\n",
       "        vertical-align: middle;\n",
       "    }\n",
       "\n",
       "    .dataframe tbody tr th {\n",
       "        vertical-align: top;\n",
       "    }\n",
       "\n",
       "    .dataframe thead th {\n",
       "        text-align: right;\n",
       "    }\n",
       "</style>\n",
       "<table border=\"1\" class=\"dataframe\">\n",
       "  <thead>\n",
       "    <tr style=\"text-align: right;\">\n",
       "      <th></th>\n",
       "      <th>created_at</th>\n",
       "      <th>tweet_id</th>\n",
       "      <th>credible</th>\n",
       "      <th>author_id</th>\n",
       "      <th>text</th>\n",
       "      <th>urls</th>\n",
       "      <th>name</th>\n",
       "      <th>username</th>\n",
       "      <th>verified</th>\n",
       "      <th>location</th>\n",
       "      <th>...</th>\n",
       "      <th>retweet_author_id</th>\n",
       "      <th>retweet_id</th>\n",
       "      <th>retweeted_screen_name</th>\n",
       "      <th>user_mentions_id</th>\n",
       "      <th>user_mentions_screen_name</th>\n",
       "      <th>in_reply_to_user_id</th>\n",
       "      <th>in_reply_to_tweet_id</th>\n",
       "      <th>in_reply_to_username</th>\n",
       "      <th>reference_type</th>\n",
       "      <th>reference_id</th>\n",
       "    </tr>\n",
       "  </thead>\n",
       "  <tbody>\n",
       "    <tr>\n",
       "      <th>0</th>\n",
       "      <td>2021-02-24 18:00:10+00:00</td>\n",
       "      <td>1364636249852502018</td>\n",
       "      <td>1</td>\n",
       "      <td>107501328</td>\n",
       "      <td>RT @Maricopahealth: At one of our community po...</td>\n",
       "      <td>#</td>\n",
       "      <td>2-1-1 Arizona</td>\n",
       "      <td>211arizona</td>\n",
       "      <td>False</td>\n",
       "      <td>Arizona</td>\n",
       "      <td>...</td>\n",
       "      <td>29816986</td>\n",
       "      <td>1364632754042802176</td>\n",
       "      <td>Maricopahealth</td>\n",
       "      <td>29816986</td>\n",
       "      <td>Maricopahealth</td>\n",
       "      <td>#</td>\n",
       "      <td>#</td>\n",
       "      <td>#</td>\n",
       "      <td>retweeted</td>\n",
       "      <td>1364632754042802176</td>\n",
       "    </tr>\n",
       "    <tr>\n",
       "      <th>2</th>\n",
       "      <td>2021-02-24 18:00:30+00:00</td>\n",
       "      <td>1364636333596008449</td>\n",
       "      <td>1</td>\n",
       "      <td>1234926105234034689</td>\n",
       "      <td>RT @SteveStaeger: When #COVID19Colorado is ove...</td>\n",
       "      <td>#</td>\n",
       "      <td>Colorado Coronavirus Updates</td>\n",
       "      <td>COVIDinColorado</td>\n",
       "      <td>False</td>\n",
       "      <td>Denver, Colorado</td>\n",
       "      <td>...</td>\n",
       "      <td>182037688</td>\n",
       "      <td>1364293582157307906</td>\n",
       "      <td>SteveStaeger</td>\n",
       "      <td>182037688</td>\n",
       "      <td>SteveStaeger</td>\n",
       "      <td>#</td>\n",
       "      <td>#</td>\n",
       "      <td>#</td>\n",
       "      <td>retweeted</td>\n",
       "      <td>1364293582157307906</td>\n",
       "    </tr>\n",
       "    <tr>\n",
       "      <th>4</th>\n",
       "      <td>2021-02-24 18:03:35+00:00</td>\n",
       "      <td>1364637110951583746</td>\n",
       "      <td>1</td>\n",
       "      <td>1363750425459970048</td>\n",
       "      <td>RT @jatinde45666597: Vaccination has been star...</td>\n",
       "      <td>#</td>\n",
       "      <td>Reena Sharma</td>\n",
       "      <td>write2reena</td>\n",
       "      <td>False</td>\n",
       "      <td>Auckland, New Zealand</td>\n",
       "      <td>...</td>\n",
       "      <td>1295748297529884673</td>\n",
       "      <td>1364087633538859008</td>\n",
       "      <td>jatinde45666597</td>\n",
       "      <td>1295748297529884673</td>\n",
       "      <td>jatinde45666597</td>\n",
       "      <td>#</td>\n",
       "      <td>#</td>\n",
       "      <td>#</td>\n",
       "      <td>retweeted</td>\n",
       "      <td>1364087633538859008</td>\n",
       "    </tr>\n",
       "    <tr>\n",
       "      <th>5</th>\n",
       "      <td>2021-02-24 18:03:43+00:00</td>\n",
       "      <td>1364637145361567745</td>\n",
       "      <td>1</td>\n",
       "      <td>961965252</td>\n",
       "      <td>RT @sarahwoodwriter: I know more about Tiger W...</td>\n",
       "      <td>#</td>\n",
       "      <td>Erica</td>\n",
       "      <td>EELzilla</td>\n",
       "      <td>False</td>\n",
       "      <td>Denver</td>\n",
       "      <td>...</td>\n",
       "      <td>191546705</td>\n",
       "      <td>1364355166745612291</td>\n",
       "      <td>sarahwoodwriter</td>\n",
       "      <td>191546705</td>\n",
       "      <td>sarahwoodwriter</td>\n",
       "      <td>#</td>\n",
       "      <td>#</td>\n",
       "      <td>#</td>\n",
       "      <td>retweeted</td>\n",
       "      <td>1364355166745612291</td>\n",
       "    </tr>\n",
       "    <tr>\n",
       "      <th>6</th>\n",
       "      <td>2021-02-24 18:04:18+00:00</td>\n",
       "      <td>1364637292531380224</td>\n",
       "      <td>1</td>\n",
       "      <td>1006430633294376960</td>\n",
       "      <td>RT @eleanorbate: how i’ll be walking down the ...</td>\n",
       "      <td>twitter.com,</td>\n",
       "      <td>Winnie⁷ Military wife</td>\n",
       "      <td>taejinwhore</td>\n",
       "      <td>False</td>\n",
       "      <td>She/her (20+)</td>\n",
       "      <td>...</td>\n",
       "      <td>27000222</td>\n",
       "      <td>1364516433938497542</td>\n",
       "      <td>eleanorbate</td>\n",
       "      <td>27000222</td>\n",
       "      <td>eleanorbate</td>\n",
       "      <td>#</td>\n",
       "      <td>#</td>\n",
       "      <td>#</td>\n",
       "      <td>retweeted</td>\n",
       "      <td>1364516433938497542</td>\n",
       "    </tr>\n",
       "    <tr>\n",
       "      <th>...</th>\n",
       "      <td>...</td>\n",
       "      <td>...</td>\n",
       "      <td>...</td>\n",
       "      <td>...</td>\n",
       "      <td>...</td>\n",
       "      <td>...</td>\n",
       "      <td>...</td>\n",
       "      <td>...</td>\n",
       "      <td>...</td>\n",
       "      <td>...</td>\n",
       "      <td>...</td>\n",
       "      <td>...</td>\n",
       "      <td>...</td>\n",
       "      <td>...</td>\n",
       "      <td>...</td>\n",
       "      <td>...</td>\n",
       "      <td>...</td>\n",
       "      <td>...</td>\n",
       "      <td>...</td>\n",
       "      <td>...</td>\n",
       "      <td>...</td>\n",
       "    </tr>\n",
       "    <tr>\n",
       "      <th>10723864</th>\n",
       "      <td>2021-03-20 23:59:42+00:00</td>\n",
       "      <td>1373424038111023106</td>\n",
       "      <td>1</td>\n",
       "      <td>827349983577796608</td>\n",
       "      <td>RT @altNOAA: PSA: If you're in #Oklahoma and a...</td>\n",
       "      <td>#</td>\n",
       "      <td>Howard Hudson</td>\n",
       "      <td>hwrdhdsn</td>\n",
       "      <td>False</td>\n",
       "      <td>Medford, OR</td>\n",
       "      <td>...</td>\n",
       "      <td>824126001936474113</td>\n",
       "      <td>1373418517484220418</td>\n",
       "      <td>altNOAA</td>\n",
       "      <td>824126001936474113</td>\n",
       "      <td>altNOAA</td>\n",
       "      <td>#</td>\n",
       "      <td>#</td>\n",
       "      <td>#</td>\n",
       "      <td>retweeted</td>\n",
       "      <td>1373418517484220418</td>\n",
       "    </tr>\n",
       "    <tr>\n",
       "      <th>10723865</th>\n",
       "      <td>2021-03-20 23:59:42+00:00</td>\n",
       "      <td>1373424038895321101</td>\n",
       "      <td>1</td>\n",
       "      <td>828337737388285952</td>\n",
       "      <td>RT @maura_resister: Covid rates are trending i...</td>\n",
       "      <td>#</td>\n",
       "      <td>KY R.N. Votes Blue😷🦋🌊</td>\n",
       "      <td>changemustcome7</td>\n",
       "      <td>False</td>\n",
       "      <td>Blue dot in red state</td>\n",
       "      <td>...</td>\n",
       "      <td>1167775229109837825</td>\n",
       "      <td>1373420544830361602</td>\n",
       "      <td>maura_resister</td>\n",
       "      <td>1167775229109837825</td>\n",
       "      <td>maura_resister</td>\n",
       "      <td>#</td>\n",
       "      <td>#</td>\n",
       "      <td>#</td>\n",
       "      <td>retweeted</td>\n",
       "      <td>1373420544830361602</td>\n",
       "    </tr>\n",
       "    <tr>\n",
       "      <th>10723866</th>\n",
       "      <td>2021-03-20 23:59:43+00:00</td>\n",
       "      <td>1373424044100440072</td>\n",
       "      <td>1</td>\n",
       "      <td>126514742</td>\n",
       "      <td>RT @Best_of_PT: The tiny island of #Corvo in t...</td>\n",
       "      <td>#</td>\n",
       "      <td>Javier RG</td>\n",
       "      <td>Rxavier23</td>\n",
       "      <td>False</td>\n",
       "      <td>#</td>\n",
       "      <td>...</td>\n",
       "      <td>894905209159331840</td>\n",
       "      <td>1373313858476068869</td>\n",
       "      <td>Best_of_PT</td>\n",
       "      <td>894905209159331840</td>\n",
       "      <td>Best_of_PT</td>\n",
       "      <td>#</td>\n",
       "      <td>#</td>\n",
       "      <td>#</td>\n",
       "      <td>retweeted</td>\n",
       "      <td>1373313858476068869</td>\n",
       "    </tr>\n",
       "    <tr>\n",
       "      <th>10723867</th>\n",
       "      <td>2021-03-20 23:59:43+00:00</td>\n",
       "      <td>1373424044318420993</td>\n",
       "      <td>1</td>\n",
       "      <td>2918822815</td>\n",
       "      <td>@sethsliltweeter @EncoreBeachClub That’s a goo...</td>\n",
       "      <td>#</td>\n",
       "      <td>Jason Titus</td>\n",
       "      <td>eezeemonee</td>\n",
       "      <td>False</td>\n",
       "      <td>San Jose, CA</td>\n",
       "      <td>...</td>\n",
       "      <td>#</td>\n",
       "      <td>#</td>\n",
       "      <td>#</td>\n",
       "      <td>1289682623757918209</td>\n",
       "      <td>sethsliltweeter</td>\n",
       "      <td>1289682623757918209</td>\n",
       "      <td>1373417100472033283</td>\n",
       "      <td>sethsliltweeter</td>\n",
       "      <td>replied_to</td>\n",
       "      <td>1373417100472033283</td>\n",
       "    </tr>\n",
       "    <tr>\n",
       "      <th>10723868</th>\n",
       "      <td>2021-03-20 23:59:43+00:00</td>\n",
       "      <td>1373424044498956288</td>\n",
       "      <td>1</td>\n",
       "      <td>1340748784121360388</td>\n",
       "      <td>RT @youth_unheard: Such a great atmosphere tod...</td>\n",
       "      <td>#</td>\n",
       "      <td>Sara</td>\n",
       "      <td>Sara31885520</td>\n",
       "      <td>False</td>\n",
       "      <td>#</td>\n",
       "      <td>...</td>\n",
       "      <td>1308059523458961409</td>\n",
       "      <td>1373381756188028932</td>\n",
       "      <td>youth_unheard</td>\n",
       "      <td>1308059523458961409</td>\n",
       "      <td>youth_unheard</td>\n",
       "      <td>#</td>\n",
       "      <td>#</td>\n",
       "      <td>#</td>\n",
       "      <td>retweeted</td>\n",
       "      <td>1373381756188028932</td>\n",
       "    </tr>\n",
       "  </tbody>\n",
       "</table>\n",
       "<p>9091749 rows × 27 columns</p>\n",
       "</div>"
      ],
      "text/plain": [
       "                        created_at             tweet_id  credible  \\\n",
       "0        2021-02-24 18:00:10+00:00  1364636249852502018         1   \n",
       "2        2021-02-24 18:00:30+00:00  1364636333596008449         1   \n",
       "4        2021-02-24 18:03:35+00:00  1364637110951583746         1   \n",
       "5        2021-02-24 18:03:43+00:00  1364637145361567745         1   \n",
       "6        2021-02-24 18:04:18+00:00  1364637292531380224         1   \n",
       "...                            ...                  ...       ...   \n",
       "10723864 2021-03-20 23:59:42+00:00  1373424038111023106         1   \n",
       "10723865 2021-03-20 23:59:42+00:00  1373424038895321101         1   \n",
       "10723866 2021-03-20 23:59:43+00:00  1373424044100440072         1   \n",
       "10723867 2021-03-20 23:59:43+00:00  1373424044318420993         1   \n",
       "10723868 2021-03-20 23:59:43+00:00  1373424044498956288         1   \n",
       "\n",
       "                    author_id  \\\n",
       "0                   107501328   \n",
       "2         1234926105234034689   \n",
       "4         1363750425459970048   \n",
       "5                   961965252   \n",
       "6         1006430633294376960   \n",
       "...                       ...   \n",
       "10723864   827349983577796608   \n",
       "10723865   828337737388285952   \n",
       "10723866            126514742   \n",
       "10723867           2918822815   \n",
       "10723868  1340748784121360388   \n",
       "\n",
       "                                                       text          urls  \\\n",
       "0         RT @Maricopahealth: At one of our community po...             #   \n",
       "2         RT @SteveStaeger: When #COVID19Colorado is ove...             #   \n",
       "4         RT @jatinde45666597: Vaccination has been star...             #   \n",
       "5         RT @sarahwoodwriter: I know more about Tiger W...             #   \n",
       "6         RT @eleanorbate: how i’ll be walking down the ...  twitter.com,   \n",
       "...                                                     ...           ...   \n",
       "10723864  RT @altNOAA: PSA: If you're in #Oklahoma and a...             #   \n",
       "10723865  RT @maura_resister: Covid rates are trending i...             #   \n",
       "10723866  RT @Best_of_PT: The tiny island of #Corvo in t...             #   \n",
       "10723867  @sethsliltweeter @EncoreBeachClub That’s a goo...             #   \n",
       "10723868  RT @youth_unheard: Such a great atmosphere tod...             #   \n",
       "\n",
       "                                  name         username  verified  \\\n",
       "0                        2-1-1 Arizona       211arizona     False   \n",
       "2         Colorado Coronavirus Updates  COVIDinColorado     False   \n",
       "4                         Reena Sharma      write2reena     False   \n",
       "5                                Erica         EELzilla     False   \n",
       "6                Winnie⁷ Military wife      taejinwhore     False   \n",
       "...                                ...              ...       ...   \n",
       "10723864                 Howard Hudson         hwrdhdsn     False   \n",
       "10723865         KY R.N. Votes Blue😷🦋🌊  changemustcome7     False   \n",
       "10723866                     Javier RG        Rxavier23     False   \n",
       "10723867                   Jason Titus       eezeemonee     False   \n",
       "10723868                          Sara     Sara31885520     False   \n",
       "\n",
       "                       location  ...    retweet_author_id  \\\n",
       "0                       Arizona  ...             29816986   \n",
       "2              Denver, Colorado  ...            182037688   \n",
       "4         Auckland, New Zealand  ...  1295748297529884673   \n",
       "5                        Denver  ...            191546705   \n",
       "6                 She/her (20+)  ...             27000222   \n",
       "...                         ...  ...                  ...   \n",
       "10723864            Medford, OR  ...   824126001936474113   \n",
       "10723865  Blue dot in red state  ...  1167775229109837825   \n",
       "10723866                      #  ...   894905209159331840   \n",
       "10723867           San Jose, CA  ...                    #   \n",
       "10723868                      #  ...  1308059523458961409   \n",
       "\n",
       "                   retweet_id  retweeted_screen_name     user_mentions_id  \\\n",
       "0         1364632754042802176         Maricopahealth             29816986   \n",
       "2         1364293582157307906           SteveStaeger            182037688   \n",
       "4         1364087633538859008        jatinde45666597  1295748297529884673   \n",
       "5         1364355166745612291        sarahwoodwriter            191546705   \n",
       "6         1364516433938497542            eleanorbate             27000222   \n",
       "...                       ...                    ...                  ...   \n",
       "10723864  1373418517484220418                altNOAA   824126001936474113   \n",
       "10723865  1373420544830361602         maura_resister  1167775229109837825   \n",
       "10723866  1373313858476068869             Best_of_PT   894905209159331840   \n",
       "10723867                    #                      #  1289682623757918209   \n",
       "10723868  1373381756188028932          youth_unheard  1308059523458961409   \n",
       "\n",
       "          user_mentions_screen_name  in_reply_to_user_id  \\\n",
       "0                    Maricopahealth                    #   \n",
       "2                      SteveStaeger                    #   \n",
       "4                   jatinde45666597                    #   \n",
       "5                   sarahwoodwriter                    #   \n",
       "6                       eleanorbate                    #   \n",
       "...                             ...                  ...   \n",
       "10723864                    altNOAA                    #   \n",
       "10723865             maura_resister                    #   \n",
       "10723866                 Best_of_PT                    #   \n",
       "10723867            sethsliltweeter  1289682623757918209   \n",
       "10723868              youth_unheard                    #   \n",
       "\n",
       "          in_reply_to_tweet_id in_reply_to_username reference_type  \\\n",
       "0                            #                    #      retweeted   \n",
       "2                            #                    #      retweeted   \n",
       "4                            #                    #      retweeted   \n",
       "5                            #                    #      retweeted   \n",
       "6                            #                    #      retweeted   \n",
       "...                        ...                  ...            ...   \n",
       "10723864                     #                    #      retweeted   \n",
       "10723865                     #                    #      retweeted   \n",
       "10723866                     #                    #      retweeted   \n",
       "10723867   1373417100472033283      sethsliltweeter     replied_to   \n",
       "10723868                     #                    #      retweeted   \n",
       "\n",
       "                 reference_id  \n",
       "0         1364632754042802176  \n",
       "2         1364293582157307906  \n",
       "4         1364087633538859008  \n",
       "5         1364355166745612291  \n",
       "6         1364516433938497542  \n",
       "...                       ...  \n",
       "10723864  1373418517484220418  \n",
       "10723865  1373420544830361602  \n",
       "10723866  1373313858476068869  \n",
       "10723867  1373417100472033283  \n",
       "10723868  1373381756188028932  \n",
       "\n",
       "[9091749 rows x 27 columns]"
      ]
     },
     "execution_count": 26,
     "metadata": {},
     "output_type": "execute_result"
    }
   ],
   "source": [
    "all_reactions"
   ]
  },
  {
   "cell_type": "code",
   "execution_count": 27,
   "metadata": {},
   "outputs": [],
   "source": [
    "tweet_id_most_reactions = all_reactions.loc[merged_days['tweet_id'].notnull()]['reference_id'].value_counts().idxmax()"
   ]
  },
  {
   "cell_type": "code",
   "execution_count": 28,
   "metadata": {},
   "outputs": [],
   "source": [
    "all_reactions_for_user = merged_days[(merged_days['reference_id'] != '#') & (merged_days['reference_id'] == tweet_id_most_reactions)]"
   ]
  },
  {
   "cell_type": "code",
   "execution_count": 29,
   "metadata": {},
   "outputs": [
    {
     "data": {
      "text/html": [
       "<div>\n",
       "<style scoped>\n",
       "    .dataframe tbody tr th:only-of-type {\n",
       "        vertical-align: middle;\n",
       "    }\n",
       "\n",
       "    .dataframe tbody tr th {\n",
       "        vertical-align: top;\n",
       "    }\n",
       "\n",
       "    .dataframe thead th {\n",
       "        text-align: right;\n",
       "    }\n",
       "</style>\n",
       "<table border=\"1\" class=\"dataframe\">\n",
       "  <thead>\n",
       "    <tr style=\"text-align: right;\">\n",
       "      <th></th>\n",
       "      <th>created_at</th>\n",
       "      <th>tweet_id</th>\n",
       "      <th>credible</th>\n",
       "      <th>author_id</th>\n",
       "      <th>text</th>\n",
       "      <th>urls</th>\n",
       "      <th>name</th>\n",
       "      <th>username</th>\n",
       "      <th>verified</th>\n",
       "      <th>location</th>\n",
       "      <th>...</th>\n",
       "      <th>retweet_author_id</th>\n",
       "      <th>retweet_id</th>\n",
       "      <th>retweeted_screen_name</th>\n",
       "      <th>user_mentions_id</th>\n",
       "      <th>user_mentions_screen_name</th>\n",
       "      <th>in_reply_to_user_id</th>\n",
       "      <th>in_reply_to_tweet_id</th>\n",
       "      <th>in_reply_to_username</th>\n",
       "      <th>reference_type</th>\n",
       "      <th>reference_id</th>\n",
       "    </tr>\n",
       "  </thead>\n",
       "  <tbody>\n",
       "    <tr>\n",
       "      <th>30388</th>\n",
       "      <td>2021-03-01 01:36:49+00:00</td>\n",
       "      <td>1366200721087991811</td>\n",
       "      <td>1</td>\n",
       "      <td>1088016983126290432</td>\n",
       "      <td>RT @narendramodi: Took my first dose of the CO...</td>\n",
       "      <td>#</td>\n",
       "      <td>Saravanan Sivan</td>\n",
       "      <td>Saravanansivans</td>\n",
       "      <td>False</td>\n",
       "      <td>தமிழ்நாடு</td>\n",
       "      <td>...</td>\n",
       "      <td>18839785</td>\n",
       "      <td>1366200664402006016</td>\n",
       "      <td>narendramodi</td>\n",
       "      <td>18839785</td>\n",
       "      <td>narendramodi</td>\n",
       "      <td>#</td>\n",
       "      <td>#</td>\n",
       "      <td>#</td>\n",
       "      <td>retweeted</td>\n",
       "      <td>1366200664402006016</td>\n",
       "    </tr>\n",
       "    <tr>\n",
       "      <th>30395</th>\n",
       "      <td>2021-03-01 01:36:52+00:00</td>\n",
       "      <td>1366200732676804610</td>\n",
       "      <td>1</td>\n",
       "      <td>794310968</td>\n",
       "      <td>RT @narendramodi: Took my first dose of the CO...</td>\n",
       "      <td>#</td>\n",
       "      <td>drpoovendran My PM My Pride!</td>\n",
       "      <td>poovendran123</td>\n",
       "      <td>False</td>\n",
       "      <td>karur</td>\n",
       "      <td>...</td>\n",
       "      <td>18839785</td>\n",
       "      <td>1366200664402006016</td>\n",
       "      <td>narendramodi</td>\n",
       "      <td>18839785</td>\n",
       "      <td>narendramodi</td>\n",
       "      <td>#</td>\n",
       "      <td>#</td>\n",
       "      <td>#</td>\n",
       "      <td>retweeted</td>\n",
       "      <td>1366200664402006016</td>\n",
       "    </tr>\n",
       "    <tr>\n",
       "      <th>30397</th>\n",
       "      <td>2021-03-01 01:36:52+00:00</td>\n",
       "      <td>1366200733658271745</td>\n",
       "      <td>1</td>\n",
       "      <td>452147147</td>\n",
       "      <td>RT @narendramodi: Took my first dose of the CO...</td>\n",
       "      <td>#</td>\n",
       "      <td>R.H.Vikram</td>\n",
       "      <td>rhvikram</td>\n",
       "      <td>False</td>\n",
       "      <td>Chennai</td>\n",
       "      <td>...</td>\n",
       "      <td>18839785</td>\n",
       "      <td>1366200664402006016</td>\n",
       "      <td>narendramodi</td>\n",
       "      <td>18839785</td>\n",
       "      <td>narendramodi</td>\n",
       "      <td>#</td>\n",
       "      <td>#</td>\n",
       "      <td>#</td>\n",
       "      <td>retweeted</td>\n",
       "      <td>1366200664402006016</td>\n",
       "    </tr>\n",
       "    <tr>\n",
       "      <th>30431</th>\n",
       "      <td>2021-03-01 01:36:59+00:00</td>\n",
       "      <td>1366200762137632768</td>\n",
       "      <td>1</td>\n",
       "      <td>755271973278711808</td>\n",
       "      <td>RT @narendramodi: Took my first dose of the CO...</td>\n",
       "      <td>#</td>\n",
       "      <td>Pema Khandu པདྨ་མཁའ་འགྲོ་།</td>\n",
       "      <td>PemaKhanduBJP</td>\n",
       "      <td>True</td>\n",
       "      <td>Itanagar, India</td>\n",
       "      <td>...</td>\n",
       "      <td>18839785</td>\n",
       "      <td>1366200664402006016</td>\n",
       "      <td>narendramodi</td>\n",
       "      <td>18839785</td>\n",
       "      <td>narendramodi</td>\n",
       "      <td>#</td>\n",
       "      <td>#</td>\n",
       "      <td>#</td>\n",
       "      <td>retweeted</td>\n",
       "      <td>1366200664402006016</td>\n",
       "    </tr>\n",
       "    <tr>\n",
       "      <th>30464</th>\n",
       "      <td>2021-03-01 01:37:08+00:00</td>\n",
       "      <td>1366200802230996997</td>\n",
       "      <td>1</td>\n",
       "      <td>389950297</td>\n",
       "      <td>RT @narendramodi: Took my first dose of the CO...</td>\n",
       "      <td>#</td>\n",
       "      <td>絆 ALL JAPAN 🌐Global</td>\n",
       "      <td>wadakashiho</td>\n",
       "      <td>False</td>\n",
       "      <td>JAPAN</td>\n",
       "      <td>...</td>\n",
       "      <td>18839785</td>\n",
       "      <td>1366200664402006016</td>\n",
       "      <td>narendramodi</td>\n",
       "      <td>18839785</td>\n",
       "      <td>narendramodi</td>\n",
       "      <td>#</td>\n",
       "      <td>#</td>\n",
       "      <td>#</td>\n",
       "      <td>retweeted</td>\n",
       "      <td>1366200664402006016</td>\n",
       "    </tr>\n",
       "    <tr>\n",
       "      <th>...</th>\n",
       "      <td>...</td>\n",
       "      <td>...</td>\n",
       "      <td>...</td>\n",
       "      <td>...</td>\n",
       "      <td>...</td>\n",
       "      <td>...</td>\n",
       "      <td>...</td>\n",
       "      <td>...</td>\n",
       "      <td>...</td>\n",
       "      <td>...</td>\n",
       "      <td>...</td>\n",
       "      <td>...</td>\n",
       "      <td>...</td>\n",
       "      <td>...</td>\n",
       "      <td>...</td>\n",
       "      <td>...</td>\n",
       "      <td>...</td>\n",
       "      <td>...</td>\n",
       "      <td>...</td>\n",
       "      <td>...</td>\n",
       "      <td>...</td>\n",
       "    </tr>\n",
       "    <tr>\n",
       "      <th>10425305</th>\n",
       "      <td>2021-03-20 10:36:00+00:00</td>\n",
       "      <td>1373221782904274946</td>\n",
       "      <td>1</td>\n",
       "      <td>1373094325807153155</td>\n",
       "      <td>RT @narendramodi: Took my first dose of the CO...</td>\n",
       "      <td>#</td>\n",
       "      <td>SANJAY MEENA</td>\n",
       "      <td>jaamimeena</td>\n",
       "      <td>False</td>\n",
       "      <td>Jaipur, India</td>\n",
       "      <td>...</td>\n",
       "      <td>18839785</td>\n",
       "      <td>1366200664402006016</td>\n",
       "      <td>narendramodi</td>\n",
       "      <td>18839785</td>\n",
       "      <td>narendramodi</td>\n",
       "      <td>#</td>\n",
       "      <td>#</td>\n",
       "      <td>#</td>\n",
       "      <td>retweeted</td>\n",
       "      <td>1366200664402006016</td>\n",
       "    </tr>\n",
       "    <tr>\n",
       "      <th>10431115</th>\n",
       "      <td>2021-03-20 10:52:39+00:00</td>\n",
       "      <td>1373225972816703499</td>\n",
       "      <td>1</td>\n",
       "      <td>1350386062187655168</td>\n",
       "      <td>RT @narendramodi: Took my first dose of the CO...</td>\n",
       "      <td>#</td>\n",
       "      <td>ANIRBAN BANERJEE</td>\n",
       "      <td>ANIRBAN60273768</td>\n",
       "      <td>False</td>\n",
       "      <td>#</td>\n",
       "      <td>...</td>\n",
       "      <td>18839785</td>\n",
       "      <td>1366200664402006016</td>\n",
       "      <td>narendramodi</td>\n",
       "      <td>18839785</td>\n",
       "      <td>narendramodi</td>\n",
       "      <td>#</td>\n",
       "      <td>#</td>\n",
       "      <td>#</td>\n",
       "      <td>retweeted</td>\n",
       "      <td>1366200664402006016</td>\n",
       "    </tr>\n",
       "    <tr>\n",
       "      <th>10477264</th>\n",
       "      <td>2021-03-20 13:03:11+00:00</td>\n",
       "      <td>1373258821074706435</td>\n",
       "      <td>1</td>\n",
       "      <td>1373257749539168266</td>\n",
       "      <td>RT @narendramodi: Took my first dose of the CO...</td>\n",
       "      <td>#</td>\n",
       "      <td>AtulMobile</td>\n",
       "      <td>AtulMobile1</td>\n",
       "      <td>False</td>\n",
       "      <td>#</td>\n",
       "      <td>...</td>\n",
       "      <td>18839785</td>\n",
       "      <td>1366200664402006016</td>\n",
       "      <td>narendramodi</td>\n",
       "      <td>18839785</td>\n",
       "      <td>narendramodi</td>\n",
       "      <td>#</td>\n",
       "      <td>#</td>\n",
       "      <td>#</td>\n",
       "      <td>retweeted</td>\n",
       "      <td>1366200664402006016</td>\n",
       "    </tr>\n",
       "    <tr>\n",
       "      <th>10482816</th>\n",
       "      <td>2021-03-20 13:18:31+00:00</td>\n",
       "      <td>1373262679272353794</td>\n",
       "      <td>1</td>\n",
       "      <td>1359104435784273920</td>\n",
       "      <td>RT @narendramodi: Took my first dose of the CO...</td>\n",
       "      <td>#</td>\n",
       "      <td>Bibek Chakraborty</td>\n",
       "      <td>BibekCh27496834</td>\n",
       "      <td>False</td>\n",
       "      <td>#</td>\n",
       "      <td>...</td>\n",
       "      <td>18839785</td>\n",
       "      <td>1366200664402006016</td>\n",
       "      <td>narendramodi</td>\n",
       "      <td>18839785</td>\n",
       "      <td>narendramodi</td>\n",
       "      <td>#</td>\n",
       "      <td>#</td>\n",
       "      <td>#</td>\n",
       "      <td>retweeted</td>\n",
       "      <td>1366200664402006016</td>\n",
       "    </tr>\n",
       "    <tr>\n",
       "      <th>10540798</th>\n",
       "      <td>2021-03-20 15:50:24+00:00</td>\n",
       "      <td>1373300903021744128</td>\n",
       "      <td>1</td>\n",
       "      <td>1299313527287459841</td>\n",
       "      <td>RT @narendramodi: Took my first dose of the CO...</td>\n",
       "      <td>#</td>\n",
       "      <td>SVGRYB_DHOLERA_TALUKO</td>\n",
       "      <td>TalukoSvgryb</td>\n",
       "      <td>False</td>\n",
       "      <td>#</td>\n",
       "      <td>...</td>\n",
       "      <td>18839785</td>\n",
       "      <td>1366200664402006016</td>\n",
       "      <td>narendramodi</td>\n",
       "      <td>18839785</td>\n",
       "      <td>narendramodi</td>\n",
       "      <td>#</td>\n",
       "      <td>#</td>\n",
       "      <td>#</td>\n",
       "      <td>retweeted</td>\n",
       "      <td>1366200664402006016</td>\n",
       "    </tr>\n",
       "  </tbody>\n",
       "</table>\n",
       "<p>43065 rows × 27 columns</p>\n",
       "</div>"
      ],
      "text/plain": [
       "                        created_at             tweet_id  credible  \\\n",
       "30388    2021-03-01 01:36:49+00:00  1366200721087991811         1   \n",
       "30395    2021-03-01 01:36:52+00:00  1366200732676804610         1   \n",
       "30397    2021-03-01 01:36:52+00:00  1366200733658271745         1   \n",
       "30431    2021-03-01 01:36:59+00:00  1366200762137632768         1   \n",
       "30464    2021-03-01 01:37:08+00:00  1366200802230996997         1   \n",
       "...                            ...                  ...       ...   \n",
       "10425305 2021-03-20 10:36:00+00:00  1373221782904274946         1   \n",
       "10431115 2021-03-20 10:52:39+00:00  1373225972816703499         1   \n",
       "10477264 2021-03-20 13:03:11+00:00  1373258821074706435         1   \n",
       "10482816 2021-03-20 13:18:31+00:00  1373262679272353794         1   \n",
       "10540798 2021-03-20 15:50:24+00:00  1373300903021744128         1   \n",
       "\n",
       "                    author_id  \\\n",
       "30388     1088016983126290432   \n",
       "30395               794310968   \n",
       "30397               452147147   \n",
       "30431      755271973278711808   \n",
       "30464               389950297   \n",
       "...                       ...   \n",
       "10425305  1373094325807153155   \n",
       "10431115  1350386062187655168   \n",
       "10477264  1373257749539168266   \n",
       "10482816  1359104435784273920   \n",
       "10540798  1299313527287459841   \n",
       "\n",
       "                                                       text urls  \\\n",
       "30388     RT @narendramodi: Took my first dose of the CO...    #   \n",
       "30395     RT @narendramodi: Took my first dose of the CO...    #   \n",
       "30397     RT @narendramodi: Took my first dose of the CO...    #   \n",
       "30431     RT @narendramodi: Took my first dose of the CO...    #   \n",
       "30464     RT @narendramodi: Took my first dose of the CO...    #   \n",
       "...                                                     ...  ...   \n",
       "10425305  RT @narendramodi: Took my first dose of the CO...    #   \n",
       "10431115  RT @narendramodi: Took my first dose of the CO...    #   \n",
       "10477264  RT @narendramodi: Took my first dose of the CO...    #   \n",
       "10482816  RT @narendramodi: Took my first dose of the CO...    #   \n",
       "10540798  RT @narendramodi: Took my first dose of the CO...    #   \n",
       "\n",
       "                                  name         username  verified  \\\n",
       "30388                  Saravanan Sivan  Saravanansivans     False   \n",
       "30395     drpoovendran My PM My Pride!    poovendran123     False   \n",
       "30397                       R.H.Vikram         rhvikram     False   \n",
       "30431       Pema Khandu པདྨ་མཁའ་འགྲོ་།    PemaKhanduBJP      True   \n",
       "30464              絆 ALL JAPAN 🌐Global      wadakashiho     False   \n",
       "...                                ...              ...       ...   \n",
       "10425305                  SANJAY MEENA       jaamimeena     False   \n",
       "10431115              ANIRBAN BANERJEE  ANIRBAN60273768     False   \n",
       "10477264                    AtulMobile      AtulMobile1     False   \n",
       "10482816             Bibek Chakraborty  BibekCh27496834     False   \n",
       "10540798         SVGRYB_DHOLERA_TALUKO     TalukoSvgryb     False   \n",
       "\n",
       "                 location  ...  retweet_author_id           retweet_id  \\\n",
       "30388           தமிழ்நாடு  ...           18839785  1366200664402006016   \n",
       "30395              karur   ...           18839785  1366200664402006016   \n",
       "30397             Chennai  ...           18839785  1366200664402006016   \n",
       "30431     Itanagar, India  ...           18839785  1366200664402006016   \n",
       "30464               JAPAN  ...           18839785  1366200664402006016   \n",
       "...                   ...  ...                ...                  ...   \n",
       "10425305    Jaipur, India  ...           18839785  1366200664402006016   \n",
       "10431115                #  ...           18839785  1366200664402006016   \n",
       "10477264                #  ...           18839785  1366200664402006016   \n",
       "10482816                #  ...           18839785  1366200664402006016   \n",
       "10540798                #  ...           18839785  1366200664402006016   \n",
       "\n",
       "          retweeted_screen_name  user_mentions_id  user_mentions_screen_name  \\\n",
       "30388              narendramodi          18839785               narendramodi   \n",
       "30395              narendramodi          18839785               narendramodi   \n",
       "30397              narendramodi          18839785               narendramodi   \n",
       "30431              narendramodi          18839785               narendramodi   \n",
       "30464              narendramodi          18839785               narendramodi   \n",
       "...                         ...               ...                        ...   \n",
       "10425305           narendramodi          18839785               narendramodi   \n",
       "10431115           narendramodi          18839785               narendramodi   \n",
       "10477264           narendramodi          18839785               narendramodi   \n",
       "10482816           narendramodi          18839785               narendramodi   \n",
       "10540798           narendramodi          18839785               narendramodi   \n",
       "\n",
       "          in_reply_to_user_id  in_reply_to_tweet_id in_reply_to_username  \\\n",
       "30388                       #                     #                    #   \n",
       "30395                       #                     #                    #   \n",
       "30397                       #                     #                    #   \n",
       "30431                       #                     #                    #   \n",
       "30464                       #                     #                    #   \n",
       "...                       ...                   ...                  ...   \n",
       "10425305                    #                     #                    #   \n",
       "10431115                    #                     #                    #   \n",
       "10477264                    #                     #                    #   \n",
       "10482816                    #                     #                    #   \n",
       "10540798                    #                     #                    #   \n",
       "\n",
       "         reference_type         reference_id  \n",
       "30388         retweeted  1366200664402006016  \n",
       "30395         retweeted  1366200664402006016  \n",
       "30397         retweeted  1366200664402006016  \n",
       "30431         retweeted  1366200664402006016  \n",
       "30464         retweeted  1366200664402006016  \n",
       "...                 ...                  ...  \n",
       "10425305      retweeted  1366200664402006016  \n",
       "10431115      retweeted  1366200664402006016  \n",
       "10477264      retweeted  1366200664402006016  \n",
       "10482816      retweeted  1366200664402006016  \n",
       "10540798      retweeted  1366200664402006016  \n",
       "\n",
       "[43065 rows x 27 columns]"
      ]
     },
     "execution_count": 29,
     "metadata": {},
     "output_type": "execute_result"
    }
   ],
   "source": [
    "all_reactions_for_user"
   ]
  },
  {
   "cell_type": "code",
   "execution_count": 44,
   "metadata": {},
   "outputs": [],
   "source": [
    "def create_json_original(original_tweet_id, dataset):\n",
    "\n",
    "    has_duplicates = dataset[dataset['tweet_id'] == original_tweet_id]['tweet_id'].duplicated().any()\n",
    "    if has_duplicates:\n",
    "        raise Exception(\"Duplicate tweet id. Make sure the tweet id is unique.\")\n",
    "    \n",
    "    def row_value_for(column_name):\n",
    "        return dataset.loc[dataset['tweet_id'] == original_tweet_id, column_name].item()\n",
    "\n",
    "    original = {}\n",
    "    original[\"original_tweet_id\"] = original_tweet_id\n",
    "    unfiltered_text = row_value_for('text')\n",
    "    original[\"original_text\"] = unfiltered_text.replace('\\n', '')\n",
    "    original[\"ORIGINAL_created_at\"] = row_value_for('created_at')\n",
    "    original[\"ORIGINAL_location\"] = row_value_for('location')\n",
    "    original[\"post_id\"] = f\"post_{original_tweet_id}\"\n",
    "    original[\"original_author_id\"] = f\"ORIGINAL_TWEET_author_{row_value_for('author_id')}\"\n",
    "    original[\"ag_o_name\"] = row_value_for('name')\n",
    "    original[\"original_author_props_id\"] = f\"original_author_props_{row_value_for('author_id')}\"\n",
    "    original[\"ORIGINAL_credible\"] = row_value_for('credible')\n",
    "    original[\"ORIGINAL_username\"] = row_value_for('username')\n",
    "    original[\"ORIGINAL_verified\"] = row_value_for('verified')\n",
    "    original[\"ORIGINAL_followers_count\"] = row_value_for('followers_count')\n",
    "    original[\"ORIGINAL_following_count\"] = row_value_for('following_count')\n",
    "\n",
    "    # Convert all values to strings\n",
    "    for key in original:\n",
    "        original[key] = str(original[key])\n",
    "\n",
    "    return original"
   ]
  },
  {
   "cell_type": "code",
   "execution_count": 31,
   "metadata": {},
   "outputs": [
    {
     "data": {
      "text/plain": [
       "{'original_tweet_id': '1366200664402006016',\n",
       " 'original_text': 'Took my first dose of the COVID-19 vaccine at AIIMS. Remarkable how our doctors and scientists have worked in quick time to strengthen the global fight against COVID-19. I appeal to all those who are eligible to take the vaccine. Together, let us make India COVID-19 free! https://t.co/5z5cvAoMrv',\n",
       " 'ORIGINAL_created_at': '2021-03-01 01:36:35+00:00',\n",
       " 'ORIGINAL_location': 'India',\n",
       " 'post_id': 'post_1366200664402006016',\n",
       " 'original_author_id': 'ORIGINAL_TWEET_author_18839785',\n",
       " 'ag_o_name': 'Narendra Modi',\n",
       " 'original_author_props_id': 'original_author_props_18839785',\n",
       " 'ORIGINAL_credible': '1',\n",
       " 'ORIGINAL_username': 'narendramodi',\n",
       " 'ORIGINAL_verified': 'True',\n",
       " 'ORIGINAL_followers_count': '82431058',\n",
       " 'ORIGINAL_following_count': '2448'}"
      ]
     },
     "execution_count": 31,
     "metadata": {},
     "output_type": "execute_result"
    }
   ],
   "source": [
    "create_json_original(tweet_id_most_reactions, merged_days)"
   ]
  },
  {
   "cell_type": "code",
   "execution_count": 45,
   "metadata": {},
   "outputs": [],
   "source": [
    "reaction_labels = {\n",
    "    'quoted': 'QUOTE',\n",
    "    'replied_to': 'REPLY',\n",
    "    'retweeted': 'RETWEET'\n",
    "}"
   ]
  },
  {
   "cell_type": "code",
   "execution_count": 46,
   "metadata": {},
   "outputs": [],
   "source": [
    "def row_value_for(column_name, original_tweet_id, dataset):\n",
    "    return dataset.loc[dataset['tweet_id'] == original_tweet_id, column_name].item()"
   ]
  },
  {
   "cell_type": "code",
   "execution_count": 47,
   "metadata": {},
   "outputs": [],
   "source": [
    "def parse_offset_string(offset_string):\n",
    "    if offset_string.endswith(\"min\"):  # Offset in minutes\n",
    "        offset_minutes = int(offset_string[:-3])  # Extract the numeric part of the string (excluding the last 3 characters)\n",
    "        return pd.Timedelta(minutes=offset_minutes)\n",
    "    elif offset_string.endswith(\"h\"):  # Offset in hours\n",
    "        offset_hours = int(offset_string[:-1])  # Extract the numeric part of the string (excluding the last character)\n",
    "        return pd.Timedelta(hours=offset_hours)\n",
    "    else:\n",
    "        raise ValueError(\"Invalid offset string. It should end with 'min' for minutes or h for hours.\")"
   ]
  },
  {
   "cell_type": "code",
   "execution_count": 48,
   "metadata": {},
   "outputs": [],
   "source": [
    "def get_reactions_to_original_tweet_in_interval(original_tweet_id, start_of_interval, end_of_interval, dataset):\n",
    "    \n",
    "    original_posting_time = row_value_for('created_at', original_tweet_id, dataset)\n",
    "\n",
    "    offset1 = parse_offset_string(start_of_interval)\n",
    "    start_time = original_posting_time + offset1\n",
    "\n",
    "    if end_of_interval == \"LAST_REACTION\":\n",
    "        end_time = pd.Timestamp.utcnow()\n",
    "    else:\n",
    "        offset2 = parse_offset_string(end_of_interval)\n",
    "        end_time = original_posting_time + offset2\n",
    "\n",
    "    reactions = dataset[(dataset['reference_id'] == original_tweet_id) &\n",
    "                        (dataset['reference_type'] != '#') &\n",
    "                        (dataset['created_at'] >= start_time) & \n",
    "                        (dataset['created_at'] < end_time)]\n",
    "\n",
    "    return reactions"
   ]
  },
  {
   "cell_type": "code",
   "execution_count": 49,
   "metadata": {},
   "outputs": [],
   "source": [
    "def create_json_group_of_reaction(original_tweet_id, start_of_interval, end_of_interval, dataset, total_nr_of_reactions):\n",
    "    has_duplicates = dataset[dataset['tweet_id'] == original_tweet_id]['tweet_id'].duplicated().any()\n",
    "    if has_duplicates:\n",
    "        raise Exception(\"Duplicate tweet id. Make sure the tweet id is unique.\")\n",
    "    \n",
    "    reactions = get_reactions_to_original_tweet_in_interval(original_tweet_id, start_of_interval, end_of_interval, dataset)\n",
    "    nr_of_unique_author_ids = reactions['author_id'].nunique()\n",
    "\n",
    "    \n",
    "    group_of_reactions = {}\n",
    "    group_of_reactions[\"react_id\"] = f\"reacts_for_{start_of_interval}_{end_of_interval}\"\n",
    "    group_of_reactions[\"reaction_group_of_authors_id\"] = f\"reactions_authors_for_{start_of_interval}_{end_of_interval}\"\n",
    "    group_of_reactions[\"nr_of_distinct_authors\"] = nr_of_unique_author_ids\n",
    "    group_of_reactions[\"reaction_group_of_tweets_id\"] = f\"reactions_for_{start_of_interval}_{end_of_interval}\"\n",
    "    group_of_reactions[\"time_interval\"] = f\"{start_of_interval} - {end_of_interval}\"\n",
    "    group_of_reactions[\"nr_of_reactions\"] = len(reactions)\n",
    "    group_of_reactions[\"percentage_out_of_total_reactions\"] = f\"{round(len(reactions) / total_nr_of_reactions * 100, 2)}%\"\n",
    "    group_of_reactions[\"nr_of_replies\"] = reactions['reference_type'].value_counts().get('replied_to', 0)\n",
    "    group_of_reactions[\"nr_of_quotes\"] = reactions['reference_type'].value_counts().get('quoted', 0)\n",
    "    group_of_reactions[\"nr_of_retweets\"] = reactions['reference_type'].value_counts().get('retweeted', 0)\n",
    "\n",
    "    # Convert all values to strings\n",
    "    for key in group_of_reactions:\n",
    "        group_of_reactions[key] = str(group_of_reactions[key])\n",
    "\n",
    "    return group_of_reactions"
   ]
  },
  {
   "cell_type": "code",
   "execution_count": 37,
   "metadata": {},
   "outputs": [
    {
     "data": {
      "text/plain": [
       "{'react_id': 'reacts_for_1h_2h',\n",
       " 'reaction_group_of_authors_id': 'reactions_authors_for_1h_2h',\n",
       " 'nr_of_distinct_authors': '7285',\n",
       " 'reaction_group_of_tweets_id': 'reactions_for_1h_2h',\n",
       " 'time_interval': '1h - 2h',\n",
       " 'total_nr_of_reactions': '7335',\n",
       " '%_of_total_reactions': '17.03%',\n",
       " 'nr_of_replies': '105',\n",
       " 'nr_of_quotes': '343',\n",
       " 'nr_of_retweets': '6887'}"
      ]
     },
     "execution_count": 37,
     "metadata": {},
     "output_type": "execute_result"
    }
   ],
   "source": [
    "create_json_group_of_reaction(tweet_id_most_reactions, \"1h\", \"2h\", merged_days)"
   ]
  },
  {
   "cell_type": "code",
   "execution_count": 36,
   "metadata": {},
   "outputs": [],
   "source": [
    "# TODO last point from Mirela mail:\n",
    "# - 10 timestamps: 15', 1h, 2h, 3h, 6h, 12h, 24h, 48h, 72h, 72h+\n",
    "# - sterg orig_tweet_props\n",
    "# - adaug la proprietatile entitatii orig_tweet atributele: created_at, location - DONE\n",
    "# - o activitate de react pentru toate reactiile din intervalul x de timp\n",
    "# - entitatea asociata cu activitatea de react va fi: toate reactiile din intervalul x\n",
    "# - la entitatea asta sterg type, value, adaug proprietatile: time_interval, nr_of_replies, nr_of_quotes, nr_of_retweets\n",
    "# - o sa am un singur agent pentru grupul de autori ai reactiilor din intervalul x\n",
    "# - proprietate la agentul grup: nr of distinct authors"
   ]
  },
  {
   "cell_type": "code",
   "execution_count": 50,
   "metadata": {},
   "outputs": [],
   "source": [
    "reaction_intervals = {\n",
    "    0: \"0h-15min\",\n",
    "    1: \"15min-1h\",\n",
    "    2: \"1h-2h\",\n",
    "    3: \"2h-3h\",\n",
    "    4: \"3h-6h\",\n",
    "    5: \"6h-12h\",\n",
    "    6: \"12h-24h\",\n",
    "    7: \"24h-48h\",\n",
    "    8: \"48h-72h\",\n",
    "    9: \"72h-LAST_REACTION\"\n",
    "}"
   ]
  },
  {
   "cell_type": "code",
   "execution_count": 51,
   "metadata": {},
   "outputs": [],
   "source": [
    "def create_json_data(original_tweet_id, reaction_interval, dataset, total_nr_of_reactions):\n",
    "    # Split the string based on the \"-\"\n",
    "    intervals_boundaries = reaction_interval.split(\"-\")\n",
    "    start_of_interval = intervals_boundaries[0]\n",
    "    end_of_interval = intervals_boundaries[1]\n",
    "\n",
    "    data = {}\n",
    "    data[\"original\"] = create_json_original(original_tweet_id, dataset)\n",
    "    data[\"group_of_reactions\"] = create_json_group_of_reaction(original_tweet_id, start_of_interval, end_of_interval, dataset, total_nr_of_reactions)\n",
    "\n",
    "    return data"
   ]
  },
  {
   "cell_type": "code",
   "execution_count": 41,
   "metadata": {},
   "outputs": [],
   "source": [
    "data = create_json_data(tweet_id_most_reactions, \"0h-15min\", merged_days)"
   ]
  },
  {
   "cell_type": "code",
   "execution_count": 42,
   "metadata": {},
   "outputs": [],
   "source": [
    "# Write the dictionary to a JSON file\n",
    "with open(\"data2_test.json\", \"w\") as json_file:\n",
    "    json.dump(data, json_file, indent=4)"
   ]
  },
  {
   "cell_type": "code",
   "execution_count": null,
   "metadata": {},
   "outputs": [],
   "source": [
    "# TODO:\n",
    "# - write function to iterate through the dictionary (all intervals) and create 10 (or whatever) different JSON files\n",
    "# - put the code in a Python script\n",
    "# - add the Python script to the Maven project\n",
    "# - define correct paths\n",
    "# - add execution in pom.xml"
   ]
  },
  {
   "cell_type": "code",
   "execution_count": 52,
   "metadata": {},
   "outputs": [],
   "source": [
    "def create_all_json_data(original_tweet_id, reaction_intervals, dataset, dirpath):\n",
    "    if not isinstance(reaction_intervals, dict):\n",
    "        raise TypeError(\"The reaction intervals have to be written in a dictionary.\")\n",
    "    \n",
    "    total_nr_of_reactions = len(dataset[(dataset['reference_id'] == original_tweet_id) &\n",
    "                               (dataset['reference_type'] != '#')])\n",
    "    \n",
    "    for interval in reaction_intervals.values():\n",
    "        data = create_json_data(original_tweet_id, interval, dataset, total_nr_of_reactions)\n",
    "\n",
    "        path = os.path.join(dirpath, f\"data2_{interval}.json\")\n",
    "\n",
    "        # Write the dictionary to a JSON file\n",
    "        with open(path, \"w\") as json_file:\n",
    "            json.dump(data, json_file, indent=4)"
   ]
  },
  {
   "cell_type": "code",
   "execution_count": 53,
   "metadata": {},
   "outputs": [],
   "source": [
    "create_all_json_data(tweet_id_most_reactions, reaction_intervals, merged_days, rootdir_path)"
   ]
  },
  {
   "cell_type": "code",
   "execution_count": null,
   "metadata": {},
   "outputs": [],
   "source": [
    "# TODO:\n",
    "# - change the Python Script with the changes to the functions\n",
    "# - copy the script to the Maven project\n",
    "# - check the results"
   ]
  },
  {
   "cell_type": "code",
   "execution_count": null,
   "metadata": {},
   "outputs": [],
   "source": []
  },
  {
   "cell_type": "code",
   "execution_count": null,
   "metadata": {},
   "outputs": [],
   "source": []
  },
  {
   "cell_type": "code",
   "execution_count": null,
   "metadata": {},
   "outputs": [],
   "source": []
  },
  {
   "cell_type": "markdown",
   "metadata": {},
   "source": [
    "MODEL1"
   ]
  },
  {
   "cell_type": "code",
   "execution_count": 24,
   "metadata": {},
   "outputs": [],
   "source": [
    "# Filter the dataset and keep only the reactions. Remove source tweets.\n",
    "all_reactions = merged_days[merged_days['reference_id'] != '#']"
   ]
  },
  {
   "cell_type": "code",
   "execution_count": 25,
   "metadata": {},
   "outputs": [
    {
     "data": {
      "text/html": [
       "<div>\n",
       "<style scoped>\n",
       "    .dataframe tbody tr th:only-of-type {\n",
       "        vertical-align: middle;\n",
       "    }\n",
       "\n",
       "    .dataframe tbody tr th {\n",
       "        vertical-align: top;\n",
       "    }\n",
       "\n",
       "    .dataframe thead th {\n",
       "        text-align: right;\n",
       "    }\n",
       "</style>\n",
       "<table border=\"1\" class=\"dataframe\">\n",
       "  <thead>\n",
       "    <tr style=\"text-align: right;\">\n",
       "      <th></th>\n",
       "      <th>created_at</th>\n",
       "      <th>tweet_id</th>\n",
       "      <th>credible</th>\n",
       "      <th>author_id</th>\n",
       "      <th>text</th>\n",
       "      <th>urls</th>\n",
       "      <th>name</th>\n",
       "      <th>username</th>\n",
       "      <th>verified</th>\n",
       "      <th>location</th>\n",
       "      <th>...</th>\n",
       "      <th>retweet_author_id</th>\n",
       "      <th>retweet_id</th>\n",
       "      <th>retweeted_screen_name</th>\n",
       "      <th>user_mentions_id</th>\n",
       "      <th>user_mentions_screen_name</th>\n",
       "      <th>in_reply_to_user_id</th>\n",
       "      <th>in_reply_to_tweet_id</th>\n",
       "      <th>in_reply_to_username</th>\n",
       "      <th>reference_type</th>\n",
       "      <th>reference_id</th>\n",
       "    </tr>\n",
       "  </thead>\n",
       "  <tbody>\n",
       "    <tr>\n",
       "      <th>0</th>\n",
       "      <td>2021-02-24 18:00:10+00:00</td>\n",
       "      <td>1364636249852502018</td>\n",
       "      <td>1</td>\n",
       "      <td>107501328</td>\n",
       "      <td>RT @Maricopahealth: At one of our community po...</td>\n",
       "      <td>#</td>\n",
       "      <td>2-1-1 Arizona</td>\n",
       "      <td>211arizona</td>\n",
       "      <td>False</td>\n",
       "      <td>Arizona</td>\n",
       "      <td>...</td>\n",
       "      <td>29816986</td>\n",
       "      <td>1364632754042802176</td>\n",
       "      <td>Maricopahealth</td>\n",
       "      <td>29816986</td>\n",
       "      <td>Maricopahealth</td>\n",
       "      <td>#</td>\n",
       "      <td>#</td>\n",
       "      <td>#</td>\n",
       "      <td>retweeted</td>\n",
       "      <td>1364632754042802176</td>\n",
       "    </tr>\n",
       "    <tr>\n",
       "      <th>2</th>\n",
       "      <td>2021-02-24 18:00:30+00:00</td>\n",
       "      <td>1364636333596008449</td>\n",
       "      <td>1</td>\n",
       "      <td>1234926105234034689</td>\n",
       "      <td>RT @SteveStaeger: When #COVID19Colorado is ove...</td>\n",
       "      <td>#</td>\n",
       "      <td>Colorado Coronavirus Updates</td>\n",
       "      <td>COVIDinColorado</td>\n",
       "      <td>False</td>\n",
       "      <td>Denver, Colorado</td>\n",
       "      <td>...</td>\n",
       "      <td>182037688</td>\n",
       "      <td>1364293582157307906</td>\n",
       "      <td>SteveStaeger</td>\n",
       "      <td>182037688</td>\n",
       "      <td>SteveStaeger</td>\n",
       "      <td>#</td>\n",
       "      <td>#</td>\n",
       "      <td>#</td>\n",
       "      <td>retweeted</td>\n",
       "      <td>1364293582157307906</td>\n",
       "    </tr>\n",
       "    <tr>\n",
       "      <th>4</th>\n",
       "      <td>2021-02-24 18:03:35+00:00</td>\n",
       "      <td>1364637110951583746</td>\n",
       "      <td>1</td>\n",
       "      <td>1363750425459970048</td>\n",
       "      <td>RT @jatinde45666597: Vaccination has been star...</td>\n",
       "      <td>#</td>\n",
       "      <td>Reena Sharma</td>\n",
       "      <td>write2reena</td>\n",
       "      <td>False</td>\n",
       "      <td>Auckland, New Zealand</td>\n",
       "      <td>...</td>\n",
       "      <td>1295748297529884673</td>\n",
       "      <td>1364087633538859008</td>\n",
       "      <td>jatinde45666597</td>\n",
       "      <td>1295748297529884673</td>\n",
       "      <td>jatinde45666597</td>\n",
       "      <td>#</td>\n",
       "      <td>#</td>\n",
       "      <td>#</td>\n",
       "      <td>retweeted</td>\n",
       "      <td>1364087633538859008</td>\n",
       "    </tr>\n",
       "    <tr>\n",
       "      <th>5</th>\n",
       "      <td>2021-02-24 18:03:43+00:00</td>\n",
       "      <td>1364637145361567745</td>\n",
       "      <td>1</td>\n",
       "      <td>961965252</td>\n",
       "      <td>RT @sarahwoodwriter: I know more about Tiger W...</td>\n",
       "      <td>#</td>\n",
       "      <td>Erica</td>\n",
       "      <td>EELzilla</td>\n",
       "      <td>False</td>\n",
       "      <td>Denver</td>\n",
       "      <td>...</td>\n",
       "      <td>191546705</td>\n",
       "      <td>1364355166745612291</td>\n",
       "      <td>sarahwoodwriter</td>\n",
       "      <td>191546705</td>\n",
       "      <td>sarahwoodwriter</td>\n",
       "      <td>#</td>\n",
       "      <td>#</td>\n",
       "      <td>#</td>\n",
       "      <td>retweeted</td>\n",
       "      <td>1364355166745612291</td>\n",
       "    </tr>\n",
       "    <tr>\n",
       "      <th>6</th>\n",
       "      <td>2021-02-24 18:04:18+00:00</td>\n",
       "      <td>1364637292531380224</td>\n",
       "      <td>1</td>\n",
       "      <td>1006430633294376960</td>\n",
       "      <td>RT @eleanorbate: how i’ll be walking down the ...</td>\n",
       "      <td>twitter.com,</td>\n",
       "      <td>Winnie⁷ Military wife</td>\n",
       "      <td>taejinwhore</td>\n",
       "      <td>False</td>\n",
       "      <td>She/her (20+)</td>\n",
       "      <td>...</td>\n",
       "      <td>27000222</td>\n",
       "      <td>1364516433938497542</td>\n",
       "      <td>eleanorbate</td>\n",
       "      <td>27000222</td>\n",
       "      <td>eleanorbate</td>\n",
       "      <td>#</td>\n",
       "      <td>#</td>\n",
       "      <td>#</td>\n",
       "      <td>retweeted</td>\n",
       "      <td>1364516433938497542</td>\n",
       "    </tr>\n",
       "    <tr>\n",
       "      <th>...</th>\n",
       "      <td>...</td>\n",
       "      <td>...</td>\n",
       "      <td>...</td>\n",
       "      <td>...</td>\n",
       "      <td>...</td>\n",
       "      <td>...</td>\n",
       "      <td>...</td>\n",
       "      <td>...</td>\n",
       "      <td>...</td>\n",
       "      <td>...</td>\n",
       "      <td>...</td>\n",
       "      <td>...</td>\n",
       "      <td>...</td>\n",
       "      <td>...</td>\n",
       "      <td>...</td>\n",
       "      <td>...</td>\n",
       "      <td>...</td>\n",
       "      <td>...</td>\n",
       "      <td>...</td>\n",
       "      <td>...</td>\n",
       "      <td>...</td>\n",
       "    </tr>\n",
       "    <tr>\n",
       "      <th>10723864</th>\n",
       "      <td>2021-03-20 23:59:42+00:00</td>\n",
       "      <td>1373424038111023106</td>\n",
       "      <td>1</td>\n",
       "      <td>827349983577796608</td>\n",
       "      <td>RT @altNOAA: PSA: If you're in #Oklahoma and a...</td>\n",
       "      <td>#</td>\n",
       "      <td>Howard Hudson</td>\n",
       "      <td>hwrdhdsn</td>\n",
       "      <td>False</td>\n",
       "      <td>Medford, OR</td>\n",
       "      <td>...</td>\n",
       "      <td>824126001936474113</td>\n",
       "      <td>1373418517484220418</td>\n",
       "      <td>altNOAA</td>\n",
       "      <td>824126001936474113</td>\n",
       "      <td>altNOAA</td>\n",
       "      <td>#</td>\n",
       "      <td>#</td>\n",
       "      <td>#</td>\n",
       "      <td>retweeted</td>\n",
       "      <td>1373418517484220418</td>\n",
       "    </tr>\n",
       "    <tr>\n",
       "      <th>10723865</th>\n",
       "      <td>2021-03-20 23:59:42+00:00</td>\n",
       "      <td>1373424038895321101</td>\n",
       "      <td>1</td>\n",
       "      <td>828337737388285952</td>\n",
       "      <td>RT @maura_resister: Covid rates are trending i...</td>\n",
       "      <td>#</td>\n",
       "      <td>KY R.N. Votes Blue😷🦋🌊</td>\n",
       "      <td>changemustcome7</td>\n",
       "      <td>False</td>\n",
       "      <td>Blue dot in red state</td>\n",
       "      <td>...</td>\n",
       "      <td>1167775229109837825</td>\n",
       "      <td>1373420544830361602</td>\n",
       "      <td>maura_resister</td>\n",
       "      <td>1167775229109837825</td>\n",
       "      <td>maura_resister</td>\n",
       "      <td>#</td>\n",
       "      <td>#</td>\n",
       "      <td>#</td>\n",
       "      <td>retweeted</td>\n",
       "      <td>1373420544830361602</td>\n",
       "    </tr>\n",
       "    <tr>\n",
       "      <th>10723866</th>\n",
       "      <td>2021-03-20 23:59:43+00:00</td>\n",
       "      <td>1373424044100440072</td>\n",
       "      <td>1</td>\n",
       "      <td>126514742</td>\n",
       "      <td>RT @Best_of_PT: The tiny island of #Corvo in t...</td>\n",
       "      <td>#</td>\n",
       "      <td>Javier RG</td>\n",
       "      <td>Rxavier23</td>\n",
       "      <td>False</td>\n",
       "      <td>#</td>\n",
       "      <td>...</td>\n",
       "      <td>894905209159331840</td>\n",
       "      <td>1373313858476068869</td>\n",
       "      <td>Best_of_PT</td>\n",
       "      <td>894905209159331840</td>\n",
       "      <td>Best_of_PT</td>\n",
       "      <td>#</td>\n",
       "      <td>#</td>\n",
       "      <td>#</td>\n",
       "      <td>retweeted</td>\n",
       "      <td>1373313858476068869</td>\n",
       "    </tr>\n",
       "    <tr>\n",
       "      <th>10723867</th>\n",
       "      <td>2021-03-20 23:59:43+00:00</td>\n",
       "      <td>1373424044318420993</td>\n",
       "      <td>1</td>\n",
       "      <td>2918822815</td>\n",
       "      <td>@sethsliltweeter @EncoreBeachClub That’s a goo...</td>\n",
       "      <td>#</td>\n",
       "      <td>Jason Titus</td>\n",
       "      <td>eezeemonee</td>\n",
       "      <td>False</td>\n",
       "      <td>San Jose, CA</td>\n",
       "      <td>...</td>\n",
       "      <td>#</td>\n",
       "      <td>#</td>\n",
       "      <td>#</td>\n",
       "      <td>1289682623757918209</td>\n",
       "      <td>sethsliltweeter</td>\n",
       "      <td>1289682623757918209</td>\n",
       "      <td>1373417100472033283</td>\n",
       "      <td>sethsliltweeter</td>\n",
       "      <td>replied_to</td>\n",
       "      <td>1373417100472033283</td>\n",
       "    </tr>\n",
       "    <tr>\n",
       "      <th>10723868</th>\n",
       "      <td>2021-03-20 23:59:43+00:00</td>\n",
       "      <td>1373424044498956288</td>\n",
       "      <td>1</td>\n",
       "      <td>1340748784121360388</td>\n",
       "      <td>RT @youth_unheard: Such a great atmosphere tod...</td>\n",
       "      <td>#</td>\n",
       "      <td>Sara</td>\n",
       "      <td>Sara31885520</td>\n",
       "      <td>False</td>\n",
       "      <td>#</td>\n",
       "      <td>...</td>\n",
       "      <td>1308059523458961409</td>\n",
       "      <td>1373381756188028932</td>\n",
       "      <td>youth_unheard</td>\n",
       "      <td>1308059523458961409</td>\n",
       "      <td>youth_unheard</td>\n",
       "      <td>#</td>\n",
       "      <td>#</td>\n",
       "      <td>#</td>\n",
       "      <td>retweeted</td>\n",
       "      <td>1373381756188028932</td>\n",
       "    </tr>\n",
       "  </tbody>\n",
       "</table>\n",
       "<p>9091749 rows × 27 columns</p>\n",
       "</div>"
      ],
      "text/plain": [
       "                        created_at             tweet_id  credible  \\\n",
       "0        2021-02-24 18:00:10+00:00  1364636249852502018         1   \n",
       "2        2021-02-24 18:00:30+00:00  1364636333596008449         1   \n",
       "4        2021-02-24 18:03:35+00:00  1364637110951583746         1   \n",
       "5        2021-02-24 18:03:43+00:00  1364637145361567745         1   \n",
       "6        2021-02-24 18:04:18+00:00  1364637292531380224         1   \n",
       "...                            ...                  ...       ...   \n",
       "10723864 2021-03-20 23:59:42+00:00  1373424038111023106         1   \n",
       "10723865 2021-03-20 23:59:42+00:00  1373424038895321101         1   \n",
       "10723866 2021-03-20 23:59:43+00:00  1373424044100440072         1   \n",
       "10723867 2021-03-20 23:59:43+00:00  1373424044318420993         1   \n",
       "10723868 2021-03-20 23:59:43+00:00  1373424044498956288         1   \n",
       "\n",
       "                    author_id  \\\n",
       "0                   107501328   \n",
       "2         1234926105234034689   \n",
       "4         1363750425459970048   \n",
       "5                   961965252   \n",
       "6         1006430633294376960   \n",
       "...                       ...   \n",
       "10723864   827349983577796608   \n",
       "10723865   828337737388285952   \n",
       "10723866            126514742   \n",
       "10723867           2918822815   \n",
       "10723868  1340748784121360388   \n",
       "\n",
       "                                                       text          urls  \\\n",
       "0         RT @Maricopahealth: At one of our community po...             #   \n",
       "2         RT @SteveStaeger: When #COVID19Colorado is ove...             #   \n",
       "4         RT @jatinde45666597: Vaccination has been star...             #   \n",
       "5         RT @sarahwoodwriter: I know more about Tiger W...             #   \n",
       "6         RT @eleanorbate: how i’ll be walking down the ...  twitter.com,   \n",
       "...                                                     ...           ...   \n",
       "10723864  RT @altNOAA: PSA: If you're in #Oklahoma and a...             #   \n",
       "10723865  RT @maura_resister: Covid rates are trending i...             #   \n",
       "10723866  RT @Best_of_PT: The tiny island of #Corvo in t...             #   \n",
       "10723867  @sethsliltweeter @EncoreBeachClub That’s a goo...             #   \n",
       "10723868  RT @youth_unheard: Such a great atmosphere tod...             #   \n",
       "\n",
       "                                  name         username  verified  \\\n",
       "0                        2-1-1 Arizona       211arizona     False   \n",
       "2         Colorado Coronavirus Updates  COVIDinColorado     False   \n",
       "4                         Reena Sharma      write2reena     False   \n",
       "5                                Erica         EELzilla     False   \n",
       "6                Winnie⁷ Military wife      taejinwhore     False   \n",
       "...                                ...              ...       ...   \n",
       "10723864                 Howard Hudson         hwrdhdsn     False   \n",
       "10723865         KY R.N. Votes Blue😷🦋🌊  changemustcome7     False   \n",
       "10723866                     Javier RG        Rxavier23     False   \n",
       "10723867                   Jason Titus       eezeemonee     False   \n",
       "10723868                          Sara     Sara31885520     False   \n",
       "\n",
       "                       location  ...    retweet_author_id  \\\n",
       "0                       Arizona  ...             29816986   \n",
       "2              Denver, Colorado  ...            182037688   \n",
       "4         Auckland, New Zealand  ...  1295748297529884673   \n",
       "5                        Denver  ...            191546705   \n",
       "6                 She/her (20+)  ...             27000222   \n",
       "...                         ...  ...                  ...   \n",
       "10723864            Medford, OR  ...   824126001936474113   \n",
       "10723865  Blue dot in red state  ...  1167775229109837825   \n",
       "10723866                      #  ...   894905209159331840   \n",
       "10723867           San Jose, CA  ...                    #   \n",
       "10723868                      #  ...  1308059523458961409   \n",
       "\n",
       "                   retweet_id  retweeted_screen_name     user_mentions_id  \\\n",
       "0         1364632754042802176         Maricopahealth             29816986   \n",
       "2         1364293582157307906           SteveStaeger            182037688   \n",
       "4         1364087633538859008        jatinde45666597  1295748297529884673   \n",
       "5         1364355166745612291        sarahwoodwriter            191546705   \n",
       "6         1364516433938497542            eleanorbate             27000222   \n",
       "...                       ...                    ...                  ...   \n",
       "10723864  1373418517484220418                altNOAA   824126001936474113   \n",
       "10723865  1373420544830361602         maura_resister  1167775229109837825   \n",
       "10723866  1373313858476068869             Best_of_PT   894905209159331840   \n",
       "10723867                    #                      #  1289682623757918209   \n",
       "10723868  1373381756188028932          youth_unheard  1308059523458961409   \n",
       "\n",
       "          user_mentions_screen_name  in_reply_to_user_id  \\\n",
       "0                    Maricopahealth                    #   \n",
       "2                      SteveStaeger                    #   \n",
       "4                   jatinde45666597                    #   \n",
       "5                   sarahwoodwriter                    #   \n",
       "6                       eleanorbate                    #   \n",
       "...                             ...                  ...   \n",
       "10723864                    altNOAA                    #   \n",
       "10723865             maura_resister                    #   \n",
       "10723866                 Best_of_PT                    #   \n",
       "10723867            sethsliltweeter  1289682623757918209   \n",
       "10723868              youth_unheard                    #   \n",
       "\n",
       "          in_reply_to_tweet_id in_reply_to_username reference_type  \\\n",
       "0                            #                    #      retweeted   \n",
       "2                            #                    #      retweeted   \n",
       "4                            #                    #      retweeted   \n",
       "5                            #                    #      retweeted   \n",
       "6                            #                    #      retweeted   \n",
       "...                        ...                  ...            ...   \n",
       "10723864                     #                    #      retweeted   \n",
       "10723865                     #                    #      retweeted   \n",
       "10723866                     #                    #      retweeted   \n",
       "10723867   1373417100472033283      sethsliltweeter     replied_to   \n",
       "10723868                     #                    #      retweeted   \n",
       "\n",
       "                 reference_id  \n",
       "0         1364632754042802176  \n",
       "2         1364293582157307906  \n",
       "4         1364087633538859008  \n",
       "5         1364355166745612291  \n",
       "6         1364516433938497542  \n",
       "...                       ...  \n",
       "10723864  1373418517484220418  \n",
       "10723865  1373420544830361602  \n",
       "10723866  1373313858476068869  \n",
       "10723867  1373417100472033283  \n",
       "10723868  1373381756188028932  \n",
       "\n",
       "[9091749 rows x 27 columns]"
      ]
     },
     "execution_count": 25,
     "metadata": {},
     "output_type": "execute_result"
    }
   ],
   "source": [
    "all_reactions"
   ]
  },
  {
   "cell_type": "markdown",
   "metadata": {},
   "source": [
    "I make sure the tweet with the most reaction exists in our dataset."
   ]
  },
  {
   "cell_type": "code",
   "execution_count": 26,
   "metadata": {},
   "outputs": [],
   "source": [
    "most_frequent_value = all_reactions.loc[merged_days['tweet_id'].notnull()]['reference_id'].value_counts().idxmax()"
   ]
  },
  {
   "cell_type": "code",
   "execution_count": 27,
   "metadata": {},
   "outputs": [
    {
     "data": {
      "text/plain": [
       "1366200664402006016"
      ]
     },
     "execution_count": 27,
     "metadata": {},
     "output_type": "execute_result"
    }
   ],
   "source": [
    "most_frequent_value"
   ]
  },
  {
   "cell_type": "code",
   "execution_count": 28,
   "metadata": {},
   "outputs": [],
   "source": [
    "# Find out the most frequent reference_id = the source tweet id which had the most reactions\n",
    "# BUT this method doesn't check if the tweet exists in the dataset\n",
    "central_node = all_reactions['reference_id'].mode()[0]"
   ]
  },
  {
   "cell_type": "code",
   "execution_count": 29,
   "metadata": {},
   "outputs": [
    {
     "data": {
      "text/plain": [
       "1366200664402006016"
      ]
     },
     "execution_count": 29,
     "metadata": {},
     "output_type": "execute_result"
    }
   ],
   "source": [
    "central_node"
   ]
  },
  {
   "cell_type": "code",
   "execution_count": 42,
   "metadata": {},
   "outputs": [
    {
     "data": {
      "text/html": [
       "<div>\n",
       "<style scoped>\n",
       "    .dataframe tbody tr th:only-of-type {\n",
       "        vertical-align: middle;\n",
       "    }\n",
       "\n",
       "    .dataframe tbody tr th {\n",
       "        vertical-align: top;\n",
       "    }\n",
       "\n",
       "    .dataframe thead th {\n",
       "        text-align: right;\n",
       "    }\n",
       "</style>\n",
       "<table border=\"1\" class=\"dataframe\">\n",
       "  <thead>\n",
       "    <tr style=\"text-align: right;\">\n",
       "      <th></th>\n",
       "      <th>created_at</th>\n",
       "      <th>tweet_id</th>\n",
       "      <th>credible</th>\n",
       "      <th>author_id</th>\n",
       "      <th>text</th>\n",
       "      <th>urls</th>\n",
       "      <th>name</th>\n",
       "      <th>username</th>\n",
       "      <th>verified</th>\n",
       "      <th>location</th>\n",
       "      <th>...</th>\n",
       "      <th>retweet_author_id</th>\n",
       "      <th>retweet_id</th>\n",
       "      <th>retweeted_screen_name</th>\n",
       "      <th>user_mentions_id</th>\n",
       "      <th>user_mentions_screen_name</th>\n",
       "      <th>in_reply_to_user_id</th>\n",
       "      <th>in_reply_to_tweet_id</th>\n",
       "      <th>in_reply_to_username</th>\n",
       "      <th>reference_type</th>\n",
       "      <th>reference_id</th>\n",
       "    </tr>\n",
       "  </thead>\n",
       "  <tbody>\n",
       "    <tr>\n",
       "      <th>30333</th>\n",
       "      <td>2021-03-01 01:36:35+00:00</td>\n",
       "      <td>1366200664402006016</td>\n",
       "      <td>1</td>\n",
       "      <td>18839785</td>\n",
       "      <td>Took my first dose of the COVID-19 vaccine at ...</td>\n",
       "      <td>twitter.com,</td>\n",
       "      <td>Narendra Modi</td>\n",
       "      <td>narendramodi</td>\n",
       "      <td>True</td>\n",
       "      <td>India</td>\n",
       "      <td>...</td>\n",
       "      <td>#</td>\n",
       "      <td>#</td>\n",
       "      <td>#</td>\n",
       "      <td>#</td>\n",
       "      <td>#</td>\n",
       "      <td>#</td>\n",
       "      <td>#</td>\n",
       "      <td>#</td>\n",
       "      <td>#</td>\n",
       "      <td>#</td>\n",
       "    </tr>\n",
       "  </tbody>\n",
       "</table>\n",
       "<p>1 rows × 27 columns</p>\n",
       "</div>"
      ],
      "text/plain": [
       "                     created_at             tweet_id  credible  author_id  \\\n",
       "30333 2021-03-01 01:36:35+00:00  1366200664402006016         1   18839785   \n",
       "\n",
       "                                                    text          urls  \\\n",
       "30333  Took my first dose of the COVID-19 vaccine at ...  twitter.com,   \n",
       "\n",
       "                name      username  verified location  ...  retweet_author_id  \\\n",
       "30333  Narendra Modi  narendramodi      True    India  ...                  #   \n",
       "\n",
       "       retweet_id  retweeted_screen_name  user_mentions_id  \\\n",
       "30333           #                      #                 #   \n",
       "\n",
       "       user_mentions_screen_name  in_reply_to_user_id  in_reply_to_tweet_id  \\\n",
       "30333                          #                    #                     #   \n",
       "\n",
       "      in_reply_to_username reference_type reference_id  \n",
       "30333                    #              #            #  \n",
       "\n",
       "[1 rows x 27 columns]"
      ]
     },
     "execution_count": 42,
     "metadata": {},
     "output_type": "execute_result"
    }
   ],
   "source": [
    "merged_days[merged_days['tweet_id'] == most_frequent_value]"
   ]
  },
  {
   "cell_type": "code",
   "execution_count": 89,
   "metadata": {},
   "outputs": [],
   "source": [
    "def create_json_original(original_tweet_id, dataset):\n",
    "\n",
    "    has_duplicates = dataset[dataset['tweet_id'] == original_tweet_id]['tweet_id'].duplicated().any()\n",
    "    if has_duplicates:\n",
    "        raise Exception(\"Duplicate tweet id. Make sure the tweet id is unique.\")\n",
    "    \n",
    "    def row_value_for(column_name):\n",
    "        return dataset.loc[dataset['tweet_id'] == original_tweet_id, column_name].item()\n",
    "\n",
    "    original = {}\n",
    "    original[\"post_id\"] = f\"post_{original_tweet_id}\"\n",
    "    original[\"original_author_id\"] = f\"ORIGINAL_TWEET_author_{row_value_for('author_id')}\"\n",
    "    original[\"ag_o_name\"] = row_value_for('name')\n",
    "    original[\"author_props_id\"] = f\"author_props_{row_value_for('author_id')}\"\n",
    "    original[\"credible\"] = row_value_for('credible')\n",
    "    original[\"username\"] = row_value_for('username')\n",
    "    original[\"verified\"] = row_value_for('verified')\n",
    "    original[\"followers_count\"] = row_value_for('followers_count')\n",
    "    original[\"following_count\"] = row_value_for('following_count')\n",
    "    original[\"original_tweet_id\"] = original_tweet_id\n",
    "    unfiltered_text = row_value_for('text')\n",
    "    original[\"original_text\"] = unfiltered_text.replace('\\n', '')\n",
    "    original[\"original_tweet_props_id\"] = f\"tweet_props_{original_tweet_id}\"\n",
    "    original[\"ORIGINAL_properties\"] = \"ORIGINAL TWEET properties\"\n",
    "    original[\"ORIGINAL_created_at\"] = row_value_for('created_at')\n",
    "    original[\"ORIGINAL_location\"] = row_value_for('location')\n",
    "    original[\"ORIGINAL_like_count\"] = row_value_for('like_count')\n",
    "    original[\"ORIGINAL_quote_count\"] = row_value_for('quote_count')\n",
    "    original[\"ORIGINAL_reply_count\"] = row_value_for('reply_count')\n",
    "    original[\"ORIGINAL_retweet_count\"] = row_value_for('retweet_count')\n",
    "\n",
    "    # Convert all values to strings\n",
    "    for key in original:\n",
    "        original[key] = str(original[key])\n",
    "\n",
    "    return original"
   ]
  },
  {
   "cell_type": "code",
   "execution_count": 78,
   "metadata": {},
   "outputs": [],
   "source": [
    "original = create_json_original(most_frequent_value, merged_days)"
   ]
  },
  {
   "cell_type": "code",
   "execution_count": 79,
   "metadata": {},
   "outputs": [
    {
     "data": {
      "text/plain": [
       "{'post_id': 'post_1366200664402006016',\n",
       " 'original_author_id': 'ORIGINAL_TWEET_author_18839785',\n",
       " 'ag_o_name': 'Narendra Modi',\n",
       " 'author_props_id': 'author_props_18839785',\n",
       " 'credible': '1',\n",
       " 'username': 'narendramodi',\n",
       " 'verified': 'True',\n",
       " 'followers_count': '82431058',\n",
       " 'following_count': '2448',\n",
       " 'original_tweet_id': '1366200664402006016',\n",
       " 'original_text': 'Took my first dose of the COVID-19 vaccine at AIIMS. Remarkable how our doctors and scientists have worked in quick time to strengthen the global fight against COVID-19. I appeal to all those who are eligible to take the vaccine. Together, let us make India COVID-19 free! https://t.co/5z5cvAoMrv',\n",
       " 'original_tweet_props_id': 'tweet_props_1366200664402006016',\n",
       " 'ORIGINAL_properties': 'ORIGINAL TWEET properties',\n",
       " 'ORIGINAL_created_at': '2021-03-01 01:36:35+00:00',\n",
       " 'ORIGINAL_location': 'India',\n",
       " 'ORIGINAL_like_count': '220543',\n",
       " 'ORIGINAL_quote_count': '4339',\n",
       " 'ORIGINAL_reply_count': '11595',\n",
       " 'ORIGINAL_retweet_count': '43621'}"
      ]
     },
     "execution_count": 79,
     "metadata": {},
     "output_type": "execute_result"
    }
   ],
   "source": [
    "original"
   ]
  },
  {
   "cell_type": "code",
   "execution_count": 90,
   "metadata": {},
   "outputs": [],
   "source": [
    "reaction_labels = {\n",
    "    'quoted': 'QUOTE',\n",
    "    'replied_to': 'REPLY',\n",
    "    'retweeted': 'RETWEET'\n",
    "}"
   ]
  },
  {
   "cell_type": "code",
   "execution_count": 91,
   "metadata": {},
   "outputs": [],
   "source": [
    "def create_json_reaction(reaction_tweet_id, dataset):\n",
    "    has_duplicates = dataset[dataset['tweet_id'] == reaction_tweet_id]['tweet_id'].duplicated().any()\n",
    "    if has_duplicates:\n",
    "        raise Exception(\"Duplicate tweet id. Make sure the tweet id is unique.\")\n",
    "    \n",
    "    def row_value_for(column_name):\n",
    "        return dataset.loc[dataset['tweet_id'] == reaction_tweet_id, column_name].item()\n",
    "    \n",
    "    reaction_type = reaction_labels[f\"{row_value_for('reference_type')}\"]\n",
    "\n",
    "    reaction = {}\n",
    "    reaction[\"react_id\"] = f\"react_{reaction_type}_{reaction_tweet_id}\"\n",
    "    reaction[\"reaction_author_id\"] = f\"{reaction_type}_author_{row_value_for('author_id')}\"\n",
    "    reaction[\"ag_r_name\"] = row_value_for('name')\n",
    "    reaction[\"author_props_id\"] = f\"author_props_{row_value_for('author_id')}\"\n",
    "    reaction[\"credible\"] = row_value_for('credible')\n",
    "    reaction[\"username\"] = row_value_for('username')\n",
    "    reaction[\"verified\"] = row_value_for('verified')\n",
    "    reaction[\"followers_count\"] = row_value_for('followers_count')\n",
    "    reaction[\"following_count\"] = row_value_for('following_count')\n",
    "    reaction[\"reaction_tweet_id\"] = reaction_tweet_id\n",
    "    reaction[\"reply_retweet_quote\"] = reaction_type\n",
    "    unfiltered_text = row_value_for('text')\n",
    "    reaction[\"reaction_text\"] = unfiltered_text.replace('\\n', '')\n",
    "    reaction[\"reaction_tweet_props_id\"] = f\"{reaction_type}_props_{reaction_tweet_id}\"\n",
    "    reaction[\"REACTION_properties\"] = f\"{reaction_type} properties\"\n",
    "    reaction[\"REACTION_created_at\"] = row_value_for('created_at')\n",
    "    reaction[\"REACTION_location\"] = row_value_for('location')\n",
    "    reaction[\"REACTION_like_count\"] = row_value_for('like_count')\n",
    "    reaction[\"REACTION_retweet_count\"] = row_value_for('retweet_count')\n",
    "    reaction[\"REACTION_reference_id\"] = row_value_for('reference_id')\n",
    "\n",
    "    # Convert all values to strings\n",
    "    for key in reaction:\n",
    "        reaction[key] = str(reaction[key])\n",
    "\n",
    "    return reaction"
   ]
  },
  {
   "cell_type": "code",
   "execution_count": 92,
   "metadata": {},
   "outputs": [
    {
     "data": {
      "text/plain": [
       "{'react_id': 'react_REPLY_1373424044318420993',\n",
       " 'reaction_author_id': 'REPLY_author_2918822815',\n",
       " 'ag_r_name': 'Jason Titus',\n",
       " 'author_props_id': 'author_props_2918822815',\n",
       " 'credible': '1',\n",
       " 'username': 'eezeemonee',\n",
       " 'verified': 'False',\n",
       " 'followers_count': '1443',\n",
       " 'following_count': '18',\n",
       " 'reaction_tweet_id': '1373424044318420993',\n",
       " 'reply_retweet_quote': 'REPLY',\n",
       " 'reaction_text': '@sethsliltweeter @EncoreBeachClub That’s a good sign since you’re in the industry. I can’t wait to get this vaccine. Do you see Miami right now?🥴 At least with the vaccine we can kick it in the south. They DGAF',\n",
       " 'reaction_tweet_props_id': 'REPLY_props_1373424044318420993',\n",
       " 'REACTION_properties': 'REPLY properties',\n",
       " 'REACTION_created_at': '2021-03-20 23:59:43+00:00',\n",
       " 'REACTION_location': 'San Jose, CA',\n",
       " 'REACTION_like_count': '1',\n",
       " 'REACTION_retweet_count': '0',\n",
       " 'REACTION_reference_id': '1373417100472033283'}"
      ]
     },
     "execution_count": 92,
     "metadata": {},
     "output_type": "execute_result"
    }
   ],
   "source": [
    "create_json_reaction(1373424044318420993, merged_days)"
   ]
  },
  {
   "cell_type": "markdown",
   "metadata": {},
   "source": [
    "I will choose the most liked reaction for each type of reaction: reply, quote and retweet, as they generate the most interest."
   ]
  },
  {
   "cell_type": "markdown",
   "metadata": {},
   "source": [
    "Due to the fact that in my dataset, retweets have no likes, as well as no quotes an replies, I chose to select the number of retweets as the factor for choosing the top retweet."
   ]
  },
  {
   "cell_type": "code",
   "execution_count": 93,
   "metadata": {},
   "outputs": [],
   "source": [
    "def create_json_reaction_list(original_tweet_id, dataset):\n",
    "    # retrieve unique types of reactions. Reactions have a value assigned to the 'reference_type' field, different than '#'\n",
    "    # ('#' represent original tweets)\n",
    "    tweet_types = dataset['reference_type'].unique()\n",
    "    reaction_types = tweet_types[tweet_types != '#']\n",
    "\n",
    "    reactions_of_original_tweet = dataset[(dataset['reference_type'].isin(reaction_types)) & (dataset['reference_id'] == original_tweet_id)]\n",
    "\n",
    "    top_reactions = []\n",
    "    for reaction_type in reaction_types:\n",
    "        factor = 'like_count'\n",
    "        factor = 'retweet_count' if reaction_type == 'retweeted' else factor\n",
    "\n",
    "        idx_top_reaction = reactions_of_original_tweet[reactions_of_original_tweet['reference_type'] == reaction_type][factor].idxmax()\n",
    "        top_reaction_tweet_id = reactions_of_original_tweet.loc[idx_top_reaction, 'tweet_id']\n",
    "\n",
    "        json_top_reaction = create_json_reaction(top_reaction_tweet_id, reactions_of_original_tweet)\n",
    "\n",
    "        top_reactions.append(json_top_reaction)\n",
    "\n",
    "\n",
    "    return top_reactions\n",
    "    "
   ]
  },
  {
   "cell_type": "code",
   "execution_count": 84,
   "metadata": {},
   "outputs": [],
   "source": [
    "reaction_list = create_json_reaction_list(most_frequent_value, merged_days)"
   ]
  },
  {
   "cell_type": "code",
   "execution_count": 94,
   "metadata": {},
   "outputs": [],
   "source": [
    "def create_json_data(original_tweet_id, dataset):\n",
    "    data = {}\n",
    "    data[\"original\"] = create_json_original(original_tweet_id, dataset)\n",
    "    data[\"reactions\"] = create_json_reaction_list(original_tweet_id, dataset)\n",
    "\n",
    "    return data"
   ]
  },
  {
   "cell_type": "code",
   "execution_count": 95,
   "metadata": {},
   "outputs": [],
   "source": [
    "data = create_json_data(most_frequent_value, merged_days)"
   ]
  },
  {
   "cell_type": "code",
   "execution_count": 96,
   "metadata": {},
   "outputs": [
    {
     "data": {
      "text/plain": [
       "{'original': {'post_id': 'post_1366200664402006016',\n",
       "  'original_author_id': 'ORIGINAL_TWEET_author_18839785',\n",
       "  'ag_o_name': 'Narendra Modi',\n",
       "  'author_props_id': 'author_props_18839785',\n",
       "  'credible': '1',\n",
       "  'username': 'narendramodi',\n",
       "  'verified': 'True',\n",
       "  'followers_count': '82431058',\n",
       "  'following_count': '2448',\n",
       "  'original_tweet_id': '1366200664402006016',\n",
       "  'original_text': 'Took my first dose of the COVID-19 vaccine at AIIMS. Remarkable how our doctors and scientists have worked in quick time to strengthen the global fight against COVID-19. I appeal to all those who are eligible to take the vaccine. Together, let us make India COVID-19 free! https://t.co/5z5cvAoMrv',\n",
       "  'original_tweet_props_id': 'tweet_props_1366200664402006016',\n",
       "  'ORIGINAL_properties': 'ORIGINAL TWEET properties',\n",
       "  'ORIGINAL_created_at': '2021-03-01 01:36:35+00:00',\n",
       "  'ORIGINAL_location': 'India',\n",
       "  'ORIGINAL_like_count': '220543',\n",
       "  'ORIGINAL_quote_count': '4339',\n",
       "  'ORIGINAL_reply_count': '11595',\n",
       "  'ORIGINAL_retweet_count': '43621'},\n",
       " 'reactions': [{'react_id': 'react_RETWEET_1366200721087991811',\n",
       "   'reaction_author_id': 'RETWEET_author_1088016983126290432',\n",
       "   'ag_r_name': 'Saravanan Sivan',\n",
       "   'author_props_id': 'author_props_1088016983126290432',\n",
       "   'credible': '1',\n",
       "   'username': 'Saravanansivans',\n",
       "   'verified': 'False',\n",
       "   'followers_count': '2332',\n",
       "   'following_count': '358',\n",
       "   'reaction_tweet_id': '1366200721087991811',\n",
       "   'reply_retweet_quote': 'RETWEET',\n",
       "   'reaction_text': 'RT @narendramodi: Took my first dose of the COVID-19 vaccine at AIIMS. Remarkable how our doctors and scientists have worked in quick tim…',\n",
       "   'reaction_tweet_props_id': 'RETWEET_props_1366200721087991811',\n",
       "   'REACTION_properties': 'RETWEET properties',\n",
       "   'REACTION_created_at': '2021-03-01 01:36:49+00:00',\n",
       "   'REACTION_location': 'தமிழ்நாடு',\n",
       "   'REACTION_like_count': '0',\n",
       "   'REACTION_retweet_count': '43621',\n",
       "   'REACTION_reference_id': '1366200664402006016'},\n",
       "  {'react_id': 'react_QUOTE_1366935973263736835',\n",
       "   'reaction_author_id': 'QUOTE_author_74618166',\n",
       "   'ag_r_name': 'Mia Amor Mottley',\n",
       "   'author_props_id': 'author_props_74618166',\n",
       "   'credible': '1',\n",
       "   'username': 'miaamormottley',\n",
       "   'verified': 'True',\n",
       "   'followers_count': '68045',\n",
       "   'following_count': '1172',\n",
       "   'reaction_tweet_id': '1366935973263736835',\n",
       "   'reply_retweet_quote': 'QUOTE',\n",
       "   'reaction_text': 'PM Modi @narendramodi made it possible for more than 40K persons in Barbados and tens of thousands elsewhere, to receive their 1st dose of COVISHIELD via #VaccineMaitri before receiving his. A genuine demonstration of generosity. Thank you and we wish you continued good health. https://t.co/1z1QGo6xQf',\n",
       "   'reaction_tweet_props_id': 'QUOTE_props_1366935973263736835',\n",
       "   'REACTION_properties': 'QUOTE properties',\n",
       "   'REACTION_created_at': '2021-03-03 02:18:27+00:00',\n",
       "   'REACTION_location': 'Barbados',\n",
       "   'REACTION_like_count': '22143',\n",
       "   'REACTION_retweet_count': '4357',\n",
       "   'REACTION_reference_id': '1366200664402006016'},\n",
       "  {'react_id': 'react_REPLY_1366237793727381504',\n",
       "   'reaction_author_id': 'REPLY_author_755672251832217602',\n",
       "   'ag_r_name': 'Prayag',\n",
       "   'author_props_id': 'author_props_755672251832217602',\n",
       "   'credible': '1',\n",
       "   'username': 'theprayagtiwari',\n",
       "   'verified': 'True',\n",
       "   'followers_count': '38489',\n",
       "   'following_count': '362',\n",
       "   'reaction_tweet_id': '1366237793727381504',\n",
       "   'reply_retweet_quote': 'REPLY',\n",
       "   'reaction_text': '@narendramodi It is because of you, that a cleaner got the first vaccine dose in our country otherwise the famous family members and their followers will be the priorities for our Nation...You really changed the vision of the Human Mankind in the Nation and perhaps the entire world.',\n",
       "   'reaction_tweet_props_id': 'REPLY_props_1366237793727381504',\n",
       "   'REACTION_properties': 'REPLY properties',\n",
       "   'REACTION_created_at': '2021-03-01 04:04:08+00:00',\n",
       "   'REACTION_location': '#',\n",
       "   'REACTION_like_count': '615',\n",
       "   'REACTION_retweet_count': '44',\n",
       "   'REACTION_reference_id': '1366200664402006016'}]}"
      ]
     },
     "execution_count": 96,
     "metadata": {},
     "output_type": "execute_result"
    }
   ],
   "source": [
    "data"
   ]
  },
  {
   "cell_type": "code",
   "execution_count": 97,
   "metadata": {},
   "outputs": [],
   "source": [
    "# Write the dictionary to a JSON file\n",
    "with open(\"data.json\", \"w\") as json_file:\n",
    "    json.dump(data, json_file, indent=4)"
   ]
  },
  {
   "cell_type": "code",
   "execution_count": null,
   "metadata": {},
   "outputs": [],
   "source": []
  },
  {
   "cell_type": "code",
   "execution_count": null,
   "metadata": {},
   "outputs": [],
   "source": []
  },
  {
   "cell_type": "code",
   "execution_count": null,
   "metadata": {},
   "outputs": [],
   "source": []
  },
  {
   "cell_type": "code",
   "execution_count": null,
   "metadata": {},
   "outputs": [],
   "source": []
  },
  {
   "cell_type": "code",
   "execution_count": null,
   "metadata": {},
   "outputs": [],
   "source": []
  },
  {
   "cell_type": "code",
   "execution_count": null,
   "metadata": {},
   "outputs": [],
   "source": []
  },
  {
   "cell_type": "code",
   "execution_count": null,
   "metadata": {},
   "outputs": [],
   "source": []
  },
  {
   "cell_type": "code",
   "execution_count": 63,
   "metadata": {},
   "outputs": [],
   "source": [
    "count = all_reactions['reference_id'].value_counts().max()"
   ]
  },
  {
   "cell_type": "code",
   "execution_count": 64,
   "metadata": {},
   "outputs": [
    {
     "data": {
      "text/plain": [
       "43065"
      ]
     },
     "execution_count": 64,
     "metadata": {},
     "output_type": "execute_result"
    }
   ],
   "source": [
    "count"
   ]
  },
  {
   "cell_type": "code",
   "execution_count": null,
   "metadata": {},
   "outputs": [],
   "source": []
  },
  {
   "cell_type": "code",
   "execution_count": null,
   "metadata": {},
   "outputs": [],
   "source": []
  },
  {
   "cell_type": "code",
   "execution_count": null,
   "metadata": {},
   "outputs": [],
   "source": []
  },
  {
   "cell_type": "code",
   "execution_count": null,
   "metadata": {},
   "outputs": [],
   "source": []
  },
  {
   "cell_type": "code",
   "execution_count": null,
   "metadata": {},
   "outputs": [],
   "source": []
  },
  {
   "cell_type": "code",
   "execution_count": null,
   "metadata": {},
   "outputs": [],
   "source": []
  },
  {
   "cell_type": "code",
   "execution_count": 24,
   "metadata": {},
   "outputs": [],
   "source": [
    "# Create a list of the column names\n",
    "col_names = merged_days.columns.to_list()\n",
    "\n",
    "# save the list to a file\n",
    "with open(os.path.join(files_path, 'columns.txt'), 'w') as f:\n",
    "    for col_name in col_names:\n",
    "        f.write(col_name + '\\n')"
   ]
  },
  {
   "attachments": {},
   "cell_type": "markdown",
   "metadata": {},
   "source": [
    "EXACT DAYS IN OUR DATASET:\n",
    "\n",
    "Note: I double checked which days were actually used in the dataset."
   ]
  },
  {
   "cell_type": "code",
   "execution_count": 25,
   "metadata": {},
   "outputs": [
    {
     "name": "stdout",
     "output_type": "stream",
     "text": [
      "24-02-2021 - 334 tweets\n",
      "25-02-2021 - 933 tweets\n",
      "26-02-2021 - 1110 tweets\n",
      "27-02-2021 - 871 tweets\n",
      "28-02-2021 - 792 tweets\n",
      "01-03-2021 - 608540 tweets\n",
      "02-03-2021 - 691842 tweets\n",
      "03-03-2021 - 667152 tweets\n",
      "04-03-2021 - 516891 tweets\n",
      "05-03-2021 - 504369 tweets\n",
      "06-03-2021 - 401596 tweets\n",
      "07-03-2021 - 362643 tweets\n",
      "08-03-2021 - 359209 tweets\n",
      "09-03-2021 - 466151 tweets\n",
      "10-03-2021 - 541263 tweets\n",
      "11-03-2021 - 667231 tweets\n",
      "12-03-2021 - 745042 tweets\n",
      "13-03-2021 - 431356 tweets\n",
      "14-03-2021 - 442648 tweets\n",
      "15-03-2021 - 586684 tweets\n",
      "16-03-2021 - 674996 tweets\n",
      "17-03-2021 - 536724 tweets\n",
      "18-03-2021 - 581944 tweets\n",
      "19-03-2021 - 501221 tweets\n",
      "20-03-2021 - 432327 tweets\n"
     ]
    }
   ],
   "source": [
    "exact_days_info = []\n",
    "\n",
    "with open(path_to_unique_dates, 'r') as f:\n",
    "    for line in f:\n",
    "        exact_days_info.append(line.strip())\n",
    "\n",
    "for day_info in exact_days_info:\n",
    "    print(day_info)"
   ]
  },
  {
   "attachments": {},
   "cell_type": "markdown",
   "metadata": {},
   "source": [
    "REACTIONS\n",
    "\n",
    "There are 3 types of reactions:\n",
    "- replies ('replied_to')\n",
    "- quotes ('quoted')\n",
    "- retweets ('retweeted')\n",
    "\n",
    "All possible combinations of reactions types you may wish to take into account further down the line are specified in the full list below. \n",
    "\n",
    "The reaction_types list should be equal to one of the elements of the full list."
   ]
  },
  {
   "cell_type": "code",
   "execution_count": 26,
   "metadata": {},
   "outputs": [],
   "source": [
    "reaction_types_full_list = [['quoted'], \n",
    "                            ['quoted', 'retweeted'], \n",
    "                            ['replied_to'], \n",
    "                            ['replied_to', 'quoted'], \n",
    "                            ['replied_to', 'quoted', 'retweeted'],\n",
    "                            ['replied_to', 'retweeted']]"
   ]
  },
  {
   "attachments": {},
   "cell_type": "markdown",
   "metadata": {},
   "source": [
    "Here, you can choose what (combination of) reaction types you wish to be included in the analysis."
   ]
  },
  {
   "cell_type": "code",
   "execution_count": 27,
   "metadata": {},
   "outputs": [],
   "source": [
    "reaction_types = reaction_types_full_list[4]"
   ]
  },
  {
   "cell_type": "code",
   "execution_count": 28,
   "metadata": {},
   "outputs": [
    {
     "data": {
      "text/plain": [
       "['replied_to', 'quoted', 'retweeted']"
      ]
     },
     "execution_count": 28,
     "metadata": {},
     "output_type": "execute_result"
    }
   ],
   "source": [
    "reaction_types"
   ]
  },
  {
   "cell_type": "code",
   "execution_count": 29,
   "metadata": {},
   "outputs": [],
   "source": [
    "def create_path_to_opinion_changes(reaction_types):\n",
    "    \"\"\"Function to create the path to the opinion changes JSON file, based on the reaction types we took into consideration.\n",
    "\n",
    "    Args:\n",
    "        reaction_types (list): list of reaction types\n",
    "\n",
    "    Returns:\n",
    "        str: path to the opinion changes file\n",
    "    \"\"\"    \n",
    "    type = \"_\".join(reaction_types)\n",
    "    path = os.path.join(opinion_changes_path, f'{type}_OC.json')\n",
    "\n",
    "    return path"
   ]
  },
  {
   "cell_type": "code",
   "execution_count": 30,
   "metadata": {},
   "outputs": [],
   "source": [
    "def group_reactions(merged_days, reaction_types):\n",
    "    \"\"\"Function to group reactions based on the reaction types list given as an input parameter, by the\n",
    "    'author_id' and 'reference_id' columns. This means that each group of reactions contains a (set of) reaction(s)\n",
    "    posted by the user identified by the 'author_id' and the source tweet identified by the 'reference_id'.\n",
    "\n",
    "    Args:\n",
    "        merged_days (pandas.core.frame.DataFrame): dataframe with all the data\n",
    "        reaction_types (list): list of reaction types we want to consider\n",
    "\n",
    "    Returns:\n",
    "        dict: dictionary where the key is a tuple of the form (author_id, reference_id)\n",
    "              and the value is a dataframe with all reactions corresponding to that combination\n",
    "    \"\"\"    \n",
    "    reactions = merged_days[merged_days['reference_type'].isin(reaction_types)]\n",
    "    multiple_reactions = reactions[reactions.duplicated(subset=['author_id', 'reference_id'], keep=False)]\n",
    "\n",
    "    # group the rows by the two columns\n",
    "    grouped_df = multiple_reactions.groupby(['author_id', 'reference_id'])\n",
    "    groups_of_reactions = grouped_df.groups\n",
    "\n",
    "    return groups_of_reactions"
   ]
  },
  {
   "cell_type": "code",
   "execution_count": 31,
   "metadata": {},
   "outputs": [],
   "source": [
    "groups_of_reactions = group_reactions(merged_days, reaction_types)"
   ]
  },
  {
   "cell_type": "code",
   "execution_count": 32,
   "metadata": {},
   "outputs": [
    {
     "data": {
      "text/plain": [
       "74314"
      ]
     },
     "execution_count": 32,
     "metadata": {},
     "output_type": "execute_result"
    }
   ],
   "source": [
    "len(groups_of_reactions)"
   ]
  },
  {
   "attachments": {},
   "cell_type": "markdown",
   "metadata": {},
   "source": [
    "LOAD DICTIONARY FROM JSON FILE"
   ]
  },
  {
   "cell_type": "code",
   "execution_count": 33,
   "metadata": {},
   "outputs": [],
   "source": [
    "def load_opinion_changes(path_to_opinion_changes):\n",
    "    \"\"\"Function that generates a dictionary based on a JSON file which contains the opinion changes within the reactions of the dataset.\n",
    "\n",
    "    Args:\n",
    "        path_to_opinion_changes (str): path to the JSON file associated with the opinion changes within the reactions\n",
    "                                               (e.g. /your/path/to/research-internship/files/opinion-changes-25_days/quoted_OC.json)\n",
    "\n",
    "    Returns:\n",
    "        dict: the original dictionary containing opinion changes from reactions\n",
    "    \"\"\"    \n",
    "    with open(path_to_opinion_changes) as f:\n",
    "        # Load the JSON data into a Python dictionary\n",
    "        opinion_changes_from_file = json.load(f)\n",
    "        # Create a new dictionary with tuple keys\n",
    "        original_opinion_changes = {}\n",
    "        for key in opinion_changes_from_file:\n",
    "            # Convert the string key to a tuple\n",
    "            new_key = eval(key)\n",
    "            # Add the key-value pair to the new dictionary\n",
    "            original_opinion_changes[new_key] = opinion_changes_from_file[key]\n",
    "            \n",
    "    return original_opinion_changes"
   ]
  },
  {
   "cell_type": "code",
   "execution_count": 34,
   "metadata": {},
   "outputs": [],
   "source": [
    "opinion_changes = load_opinion_changes(create_path_to_opinion_changes(reaction_types))"
   ]
  },
  {
   "cell_type": "markdown",
   "metadata": {},
   "source": [
    "INSIGHTS"
   ]
  },
  {
   "cell_type": "code",
   "execution_count": 35,
   "metadata": {},
   "outputs": [],
   "source": [
    "reactions_labels = {\n",
    "    'quoted': 'quotes',\n",
    "    'replied_to': 'replies',\n",
    "    'retweeted': 'retweets'\n",
    "}"
   ]
  },
  {
   "cell_type": "code",
   "execution_count": 36,
   "metadata": {},
   "outputs": [
    {
     "name": "stdout",
     "output_type": "stream",
     "text": [
      "How many people, who reacted (replies, quotes, retweets) multiple times to a source tweet, changed their opinion over time?\n",
      "22.6%.\n"
     ]
    }
   ],
   "source": [
    "print(f'How many people, who reacted ({\", \".join(map(lambda x: reactions_labels[x], reaction_types))}) multiple times to a source tweet, changed their opinion over time?')\n",
    "print(f\"{round(len(opinion_changes) / len(groups_of_reactions) * 100, 1)}%.\")"
   ]
  },
  {
   "cell_type": "code",
   "execution_count": 37,
   "metadata": {},
   "outputs": [],
   "source": [
    "def biggest_opinion_change(opinion_changes):\n",
    "    \"\"\"Function that returns the group (pair of user id - source tweet id) which interacted more than once \n",
    "    in the context of a single source tweet, i.e. one user posted more than one reply to the same source tweet, \n",
    "    where the user who reacted had the most drastic opinion change,\n",
    "    based on the previously computed sentiments of the text.\n",
    "\n",
    "    Args:\n",
    "        opinion_changes (dict): dictionary with opinion changes\n",
    "\n",
    "    Returns:\n",
    "        tuple: pair of user id - source tweet id, where the biggest opinion change occured\n",
    "        str: type of change that occured, e.g. one user tends to agree with the source tweet after some time, \n",
    "             when initially he disagreed or vice-versa\n",
    "    \"\"\"    \n",
    "    change_type = 'negative'\n",
    "    biggest_change = 0\n",
    "    target_group = tuple()\n",
    "    for group, sentiments in opinion_changes.items():\n",
    "        change = max(biggest_change, max(sentiments) - min(sentiments))\n",
    "        if change > biggest_change:\n",
    "            biggest_change = change\n",
    "            target_group = group\n",
    "    \n",
    "    min_sentiment_index = opinion_changes[target_group].index(min(opinion_changes[target_group]))\n",
    "    max_sentiment_index = opinion_changes[target_group].index(max(opinion_changes[target_group]))\n",
    "    change_type = 'positive' if min_sentiment_index < max_sentiment_index else change_type\n",
    "\n",
    "    return target_group, change_type"
   ]
  },
  {
   "cell_type": "code",
   "execution_count": 38,
   "metadata": {},
   "outputs": [],
   "source": [
    "target_group, change_type = biggest_opinion_change(opinion_changes)"
   ]
  },
  {
   "cell_type": "code",
   "execution_count": 39,
   "metadata": {},
   "outputs": [
    {
     "data": {
      "text/plain": [
       "(7027112, 1366720983525171208)"
      ]
     },
     "execution_count": 39,
     "metadata": {},
     "output_type": "execute_result"
    }
   ],
   "source": [
    "target_group"
   ]
  },
  {
   "cell_type": "code",
   "execution_count": 40,
   "metadata": {},
   "outputs": [
    {
     "data": {
      "text/plain": [
       "'negative'"
      ]
     },
     "execution_count": 40,
     "metadata": {},
     "output_type": "execute_result"
    }
   ],
   "source": [
    "change_type"
   ]
  },
  {
   "cell_type": "code",
   "execution_count": 41,
   "metadata": {},
   "outputs": [
    {
     "data": {
      "text/plain": [
       "[4, -4]"
      ]
     },
     "execution_count": 41,
     "metadata": {},
     "output_type": "execute_result"
    }
   ],
   "source": [
    "opinion_changes[target_group]"
   ]
  },
  {
   "cell_type": "code",
   "execution_count": 42,
   "metadata": {},
   "outputs": [],
   "source": [
    "def reactions_with_biggest_opinion_change(reactions, target_group):\n",
    "    \"\"\"Function that queries the reactions dataset and returns a list of the actual texts that the pair of users\n",
    "     (the author of the reaction and the author of the source tweet) posted.\n",
    "     The user id and source tweet id are passed on as input parameters (the target group).\n",
    "\n",
    "    Args:\n",
    "        replies (pandas Dataframe): the dataframe with the reactions\n",
    "        target_group (tuple): pair of user ids - source tweet id, whose posts had the biggest opinion change\n",
    "\n",
    "    Returns:\n",
    "        list: list of texts posted by the 2 users\n",
    "    \"\"\"    \n",
    "    condition1 = reactions['author_id'] == target_group[0]\n",
    "    condition2 = reactions['reference_id'] == target_group[1]\n",
    "\n",
    "    return reactions[condition1 & condition2].loc[:, 'text'].tolist()"
   ]
  },
  {
   "cell_type": "code",
   "execution_count": 43,
   "metadata": {},
   "outputs": [],
   "source": [
    "reactions_biggest_change = reactions_with_biggest_opinion_change(merged_days, target_group)"
   ]
  },
  {
   "cell_type": "code",
   "execution_count": 44,
   "metadata": {},
   "outputs": [
    {
     "data": {
      "text/plain": [
       "['RT @girlsreallyrule: After chastising President Biden at CPAC for getting the covid vaccine, we find out that both Donald and Melania Trump…',\n",
       " 'Must be devastating news to the Qanon anti vaxxers thinking vaccines turn people into gay communist antifa zombies. https://t.co/6UDTy7mxOe']"
      ]
     },
     "execution_count": 44,
     "metadata": {},
     "output_type": "execute_result"
    }
   ],
   "source": [
    "reactions_biggest_change"
   ]
  },
  {
   "cell_type": "code",
   "execution_count": 45,
   "metadata": {},
   "outputs": [],
   "source": [
    "def biggest_opinion_change_type(opinion_changes, group):\n",
    "    \"\"\"Function to detect what type of opinion change occured in the case of a group (pair of user id - source tweet id) \n",
    "    which interacted.\n",
    "\n",
    "    Args:\n",
    "        opinion_changes (dict): dictionary with opinion changes\n",
    "        group (tuple): pair of user id - source tweet id that interacted through reactions \n",
    "                       and the respondent changed his/her viewpoint w.r.t. a source tweet\n",
    "\n",
    "    Returns:\n",
    "        str: either 'positive' (if the respondent now agrees after initially disagreeing) or 'negative'\n",
    "    \"\"\"    \n",
    "    min_sentiment_index = opinion_changes[group].index(min(opinion_changes[group]))\n",
    "    max_sentiment_index = opinion_changes[group].index(max(opinion_changes[group]))\n",
    "    \n",
    "    change_type = 'negative'\n",
    "    change_type = 'positive' if min_sentiment_index < max_sentiment_index else change_type\n",
    "\n",
    "    return change_type"
   ]
  },
  {
   "cell_type": "code",
   "execution_count": 46,
   "metadata": {},
   "outputs": [],
   "source": [
    "# Create a boolean mask indicating what type of opinion change each group has\n",
    "mask = {group: biggest_opinion_change_type(opinion_changes, group) for group in opinion_changes}"
   ]
  },
  {
   "cell_type": "code",
   "execution_count": 47,
   "metadata": {},
   "outputs": [],
   "source": [
    "def value_count_in_dict(dict, value_to_count):\n",
    "    \"\"\"Function to count the occurences of a certain value in a dictionary.\n",
    "\n",
    "    Args:\n",
    "        dict (dict): dictionary where we need to count the occurences of a value\n",
    "        value_to_count (any): value to be counted\n",
    "\n",
    "    Returns:\n",
    "        int: number of occurences of value_to_count\n",
    "    \"\"\"    \n",
    "    # Create a reverse dictionary that maps values to their frequencies\n",
    "    reverse_dict = defaultdict(int)\n",
    "    for value in dict.values():\n",
    "        reverse_dict[value] += 1\n",
    "\n",
    "    # Count the occurrences of the specific value\n",
    "    count = reverse_dict.get(value_to_count, 0)\n",
    "\n",
    "    return count"
   ]
  },
  {
   "cell_type": "code",
   "execution_count": 48,
   "metadata": {},
   "outputs": [
    {
     "name": "stdout",
     "output_type": "stream",
     "text": [
      "Percentage of positive opinion changes out of:\n",
      "- the interactions where one user reacted multiple times to a source tweet and an opinion change was detected => 34.2%\n"
     ]
    }
   ],
   "source": [
    "print(f\"Percentage of positive opinion changes out of:\")\n",
    "print(f\"- the interactions where one user reacted multiple times to a source tweet and an opinion change was detected => {round(value_count_in_dict(mask, 'positive') / len(mask) * 100, 1)}%\")"
   ]
  },
  {
   "cell_type": "code",
   "execution_count": 49,
   "metadata": {},
   "outputs": [
    {
     "name": "stdout",
     "output_type": "stream",
     "text": [
      "Percentage of negative opinion changes out of:\n",
      "- the interactions where one user reacted multiple times to a source tweet and an opinion change was detected => 65.8%\n"
     ]
    }
   ],
   "source": [
    "print(f\"Percentage of negative opinion changes out of:\")\n",
    "print(f\"- the interactions where one user reacted multiple times to a source tweet and an opinion change was detected => {round(value_count_in_dict(mask, 'negative') / len(mask) * 100, 1)}%\")"
   ]
  },
  {
   "cell_type": "code",
   "execution_count": 50,
   "metadata": {},
   "outputs": [],
   "source": [
    "def compute_biggest_opinion_changes_deltas(path_to_opinion_changes):\n",
    "    opinion_changes = load_opinion_changes(path_to_opinion_changes)\n",
    "    deltas = { key: max(value) - min(value) for key, value in opinion_changes.items() }\n",
    "\n",
    "    return deltas"
   ]
  },
  {
   "cell_type": "code",
   "execution_count": 51,
   "metadata": {},
   "outputs": [],
   "source": [
    "deltas_labels = {\n",
    "    2: 'minimum',\n",
    "    3: 'slight',\n",
    "    4: 'considerable',\n",
    "    5: 'big',\n",
    "    6: 'very big',\n",
    "    7: 'huge',\n",
    "    8: 'maximum'\n",
    "}"
   ]
  },
  {
   "cell_type": "code",
   "execution_count": 52,
   "metadata": {},
   "outputs": [],
   "source": [
    "# function to add value labels - adds the value of y\n",
    "def add_labels_y_value(x,y):\n",
    "    \"\"\"Function that takes the x and y-axis to be passed onto a plot function and generates labels,\n",
    "    such that on top of each y value, it is displayed centrally.\n",
    "\n",
    "    Args:\n",
    "        x (list): list of labels for x-axis of a plot\n",
    "        y (list): list of values for y-axis of a plot\n",
    "    \"\"\"    \n",
    "    for i in range(len(x)):\n",
    "        plt.text(x[i], y[i], y[i], ha = 'center', va = 'bottom')"
   ]
  },
  {
   "cell_type": "code",
   "execution_count": 53,
   "metadata": {},
   "outputs": [],
   "source": [
    "def plot_deltas_OC(reaction_types, deltas_labels, reactions_labels, root_path, number_of_days):\n",
    "    opinion_changes_deltas = compute_biggest_opinion_changes_deltas(create_path_to_opinion_changes(reaction_types))\n",
    "    # Get the values from the dictionary\n",
    "    deltas = list(opinion_changes_deltas.values())\n",
    "\n",
    "    # Use Counter to count the occurrences of each value\n",
    "    deltas_count = Counter(deltas)\n",
    "    percentages = { f'{deltas_labels[pair[0]]} ({pair[0]})': round(pair[1] / sum(deltas_count.values()) * 100, 1) \n",
    "               for pair in sorted(deltas_count.most_common(), key=lambda x: x[0])}\n",
    "    \n",
    "    keys = list(percentages.keys())\n",
    "    values = list(percentages.values())\n",
    "\n",
    "    # Create a bar chart of the counts\n",
    "    plt.bar(keys, values, edgecolor='black')\n",
    "    plt.xticks(rotation=45)\n",
    "    plt.subplots_adjust(bottom=0.25)\n",
    "    # Add labels to the top of each bar\n",
    "    add_labels_y_value(keys, values)\n",
    "    plt.xlabel('Intensity of opinion changes')\n",
    "    plt.ylabel('Percentage of opinion changes')\n",
    "\n",
    "    long_title = f'Distribution of Opinion Changes: Percentage by Intensity for { \", \".join(map(lambda x: reactions_labels[x], reaction_types)) }'\n",
    "    # Wrap the title onto multiple lines\n",
    "    wrapped_title = textwrap.fill(long_title, width=50)\n",
    "    plt.title(wrapped_title, loc=\"center\", pad=10)\n",
    "\n",
    "    types = \"_\".join(reaction_types)\n",
    "    path = os.path.join(root_path, f'{types}_deltas_OC_{number_of_days}.png')\n",
    "    plt.savefig(path)\n",
    "    plt.close()"
   ]
  },
  {
   "cell_type": "code",
   "execution_count": 54,
   "metadata": {},
   "outputs": [],
   "source": [
    "def plot_all_deltas_OC(reaction_types_full_list, deltas_labels, reactions_labels, root_path, number_of_days):\n",
    "    for reaction_types in reaction_types_full_list:\n",
    "        plot_deltas_OC(reaction_types, deltas_labels, reactions_labels, root_path, number_of_days)"
   ]
  },
  {
   "cell_type": "code",
   "execution_count": 55,
   "metadata": {},
   "outputs": [],
   "source": [
    "plot_all_deltas_OC(reaction_types_full_list, deltas_labels, reactions_labels, covaxxy_deltas_OC_graphs_path, number_of_days)"
   ]
  },
  {
   "attachments": {},
   "cell_type": "markdown",
   "metadata": {},
   "source": [
    "NetworkX graphs - longitudinal change of quote, reply and retweet subnetworks."
   ]
  },
  {
   "cell_type": "code",
   "execution_count": 56,
   "metadata": {},
   "outputs": [],
   "source": [
    "def reactions_for_central_node(reaction_type, central_node, all_reactions):\n",
    "    reactions = all_reactions[(all_reactions['reference_id'] == central_node) & (all_reactions['reference_type'] == reaction_type)]\n",
    "\n",
    "    return reactions"
   ]
  },
  {
   "cell_type": "code",
   "execution_count": 57,
   "metadata": {},
   "outputs": [],
   "source": [
    "def reactions_for_node_by_date(date, reaction_type, central_node, all_reactions):\n",
    "    reactions = reactions_for_central_node(reaction_type, central_node, all_reactions)\n",
    "    reactions_by_date = reactions[reactions['created_at'].dt.date == pd.Timestamp(date).date()]\n",
    "\n",
    "    return reactions_by_date"
   ]
  },
  {
   "cell_type": "code",
   "execution_count": 58,
   "metadata": {},
   "outputs": [],
   "source": [
    "def plot_network(date, reaction_type, central_node, all_reactions, folder_path):\n",
    "\n",
    "    if reaction_type != 'retweeted':\n",
    "        print(f'Started building graph for {reactions_labels[reaction_type]} posted on {date}...')\n",
    "        # print(f'Started filtering the reactions...')\n",
    "        reactions_by_date = reactions_for_node_by_date(date, reaction_type, central_node, all_reactions)\n",
    "        # print(f'Reactions dataframe ready. Starting building the graph...')\n",
    "\n",
    "        # Create an empty directed graph\n",
    "        G = nx.DiGraph()\n",
    "\n",
    "        # Add the source tweet as the central node\n",
    "        G.add_node(central_node)\n",
    "\n",
    "        # Add the reply tweets as nodes and edges\n",
    "        reaction_nodes = reactions_by_date['tweet_id'].to_numpy()\n",
    "        G.add_nodes_from(reaction_nodes)\n",
    "        G.add_edges_from(zip(reaction_nodes, [central_node] * len(reaction_nodes)))\n",
    "        # print(f'Added all {G.number_of_nodes()} nodes. Now grouping the reactions by author_id...')\n",
    "\n",
    "        # group the original dataframe by 'author_id' and count the number of occurrences\n",
    "        grouped = reactions_by_date.groupby('author_id').size()\n",
    "\n",
    "        # keep only the groups where the count is greater than 1\n",
    "        grouped = grouped[grouped > 1]\n",
    "        # print('Grouped reactions where author posted more than 1 reaction.')\n",
    "\n",
    "        # create a new dataframe with the desired columns and 'author_count'\n",
    "        df_authors_with_multiple_reactions = reactions_by_date[['tweet_id', 'author_id']].loc[reactions_by_date['author_id'].isin(grouped.index)]\n",
    "        df_authors_with_multiple_reactions['author_count'] = df_authors_with_multiple_reactions['author_id'].apply(lambda x: grouped[x])\n",
    "        # print('Created helper dataframe.')\n",
    "\n",
    "        unique_author_counts = df_authors_with_multiple_reactions['author_count'].unique()\n",
    "        color_dict = {count: \"#\" + ''.join([random.choice('0123456789ABCDEF') for j in range(6)])\n",
    "                    for count in unique_author_counts}\n",
    "        # print('Created node color dictionary.')\n",
    "\n",
    "\n",
    "        def is_author_with_multiple_reactions(node, df_authors_with_multiple_reactions):\n",
    "            return node in df_authors_with_multiple_reactions['tweet_id'].values\n",
    "\n",
    "        def get_author_count(node, df_authors_with_multiple_reactions):\n",
    "            row = df_authors_with_multiple_reactions.loc[df_authors_with_multiple_reactions['tweet_id'] == node]\n",
    "            author_count = row['author_count'].iloc[0]\n",
    "\n",
    "            return author_count\n",
    "\n",
    "        # print('Adding colors to the node_colors list...')\n",
    "        node_colors = []\n",
    "        for node in G.nodes():\n",
    "            if node == central_node:\n",
    "                node_colors.append('red')\n",
    "            else:\n",
    "                node_colors.append(color_dict[get_author_count(node, df_authors_with_multiple_reactions)] \n",
    "                                if is_author_with_multiple_reactions(node, df_authors_with_multiple_reactions) else 'black')\n",
    "        # print('Added all colors.')\n",
    "\n",
    "        # Set the node size to 20\n",
    "        node_size = 20\n",
    "        # Set the edge color to grey and the opacity to 0.7\n",
    "        edge_color = 'grey'\n",
    "        edge_alpha = 0.7\n",
    "        # print('Creating the layout...')\n",
    "        # get the spring layout\n",
    "        pos = nx.spring_layout(G)\n",
    "\n",
    "        # print('Started drawing the graph...')\n",
    "        # Draw the graph\n",
    "        nx.draw(G, pos=pos, with_labels=False, node_size=node_size, node_color=node_colors, edge_color=edge_color, alpha=edge_alpha)\n",
    "\n",
    "        # print('Finished drawing. Now saving to file...')\n",
    "        path = os.path.join(folder_path, f'{reactions_labels[reaction_type]}_network_{date}.png')\n",
    "        plt.savefig(path)\n",
    "        plt.close()\n",
    "    else:\n",
    "        print(f'Appending retweets info on {date} to the summary file...')\n",
    "        reactions_by_date = reactions_for_node_by_date(date, reaction_type, central_node, all_reactions)\n",
    "        path = os.path.join(folder_path, f'{reactions_labels[reaction_type]}_summary.txt')\n",
    "        new_line = f'On {date}, there were {len(reactions_by_date)} retweets.'\n",
    "\n",
    "        try:\n",
    "            with open(path, 'x') as f:\n",
    "                f.write(new_line + '\\n')\n",
    "        except FileExistsError:\n",
    "            # Open the file in read mode\n",
    "            with open(path, 'r') as file:\n",
    "                # Read all the lines in the file and store them in a list\n",
    "                lines = file.readlines()\n",
    "\n",
    "            # Open the file in append mode\n",
    "            with open(path, 'a') as file:\n",
    "                # If the line is not already in the file, write it to the file\n",
    "                if new_line + '\\n' not in lines:\n",
    "                    file.write(new_line + '\\n')\n",
    "\n",
    "\n",
    "\n",
    "    print('Done')"
   ]
  },
  {
   "cell_type": "code",
   "execution_count": 65,
   "metadata": {},
   "outputs": [],
   "source": [
    "reaction_types_list = ['quoted', 'replied_to', 'retweeted']"
   ]
  },
  {
   "cell_type": "code",
   "execution_count": 66,
   "metadata": {},
   "outputs": [],
   "source": [
    "dates_list = ['2021-03-01', '2021-03-02','2021-03-03', '2021-03-04', '2021-03-05']"
   ]
  },
  {
   "cell_type": "code",
   "execution_count": 67,
   "metadata": {},
   "outputs": [],
   "source": [
    "root_path = covaxxy_networks_graphs_path"
   ]
  },
  {
   "cell_type": "code",
   "execution_count": 68,
   "metadata": {},
   "outputs": [],
   "source": [
    "def plot_all_networks(reaction_types_list, dates_list, central_node, all_reactions, root_path):\n",
    "    for reaction_type in reaction_types_list:\n",
    "        folder_path = os.path.join(root_path, f'{reactions_labels[reaction_type]}')\n",
    "        for date in dates_list:\n",
    "            plot_network(date, reaction_type, central_node, all_reactions, folder_path)"
   ]
  },
  {
   "cell_type": "code",
   "execution_count": 69,
   "metadata": {},
   "outputs": [
    {
     "name": "stdout",
     "output_type": "stream",
     "text": [
      "Started building graph for quotes posted on 2021-03-01...\n",
      "Done\n",
      "Started building graph for quotes posted on 2021-03-02...\n",
      "Done\n",
      "Started building graph for quotes posted on 2021-03-03...\n",
      "Done\n",
      "Started building graph for quotes posted on 2021-03-04...\n",
      "Done\n",
      "Started building graph for quotes posted on 2021-03-05...\n",
      "Done\n",
      "Started building graph for replies posted on 2021-03-01...\n",
      "Done\n",
      "Started building graph for replies posted on 2021-03-02...\n",
      "Done\n",
      "Started building graph for replies posted on 2021-03-03...\n",
      "Done\n",
      "Started building graph for replies posted on 2021-03-04...\n",
      "Done\n",
      "Started building graph for replies posted on 2021-03-05...\n",
      "Done\n",
      "Appending retweets info on 2021-03-01 to the summary file...\n",
      "Done\n",
      "Appending retweets info on 2021-03-02 to the summary file...\n",
      "Done\n",
      "Appending retweets info on 2021-03-03 to the summary file...\n",
      "Done\n",
      "Appending retweets info on 2021-03-04 to the summary file...\n",
      "Done\n",
      "Appending retweets info on 2021-03-05 to the summary file...\n",
      "Done\n"
     ]
    }
   ],
   "source": [
    "plot_all_networks(reaction_types_list, dates_list, central_node, all_reactions, root_path)"
   ]
  },
  {
   "cell_type": "code",
   "execution_count": null,
   "metadata": {},
   "outputs": [],
   "source": []
  },
  {
   "cell_type": "code",
   "execution_count": null,
   "metadata": {},
   "outputs": [],
   "source": []
  },
  {
   "cell_type": "code",
   "execution_count": null,
   "metadata": {},
   "outputs": [],
   "source": []
  },
  {
   "cell_type": "code",
   "execution_count": null,
   "metadata": {},
   "outputs": [],
   "source": []
  },
  {
   "cell_type": "code",
   "execution_count": null,
   "metadata": {},
   "outputs": [],
   "source": []
  },
  {
   "cell_type": "code",
   "execution_count": null,
   "metadata": {},
   "outputs": [],
   "source": []
  },
  {
   "cell_type": "code",
   "execution_count": null,
   "metadata": {},
   "outputs": [],
   "source": []
  },
  {
   "cell_type": "code",
   "execution_count": null,
   "metadata": {},
   "outputs": [],
   "source": []
  },
  {
   "cell_type": "code",
   "execution_count": null,
   "metadata": {},
   "outputs": [],
   "source": []
  },
  {
   "cell_type": "code",
   "execution_count": null,
   "metadata": {},
   "outputs": [],
   "source": []
  },
  {
   "attachments": {},
   "cell_type": "markdown",
   "metadata": {},
   "source": [
    "NEW COLUMN ADDITION"
   ]
  },
  {
   "attachments": {},
   "cell_type": "markdown",
   "metadata": {},
   "source": [
    "CREATION OF REPLIES_AND_QUOTES DATAFRAME, FOR WHICH WE WANT TO SEE IF THEY SUPPORT OR NOT THE SOURCE TWEET."
   ]
  },
  {
   "cell_type": "code",
   "execution_count": 69,
   "metadata": {},
   "outputs": [],
   "source": [
    "def create_replies_and_quotes(full_dataset):\n",
    "    condition_1 = full_dataset['reference_type'] == 'replied_to'\n",
    "    condition_2 = full_dataset['reference_type'] == 'quoted'\n",
    "\n",
    "    return full_dataset[condition_1 | condition_2].copy()"
   ]
  },
  {
   "cell_type": "code",
   "execution_count": 70,
   "metadata": {},
   "outputs": [],
   "source": [
    "replies_and_quotes = create_replies_and_quotes(merged_days)"
   ]
  },
  {
   "attachments": {},
   "cell_type": "markdown",
   "metadata": {},
   "source": [
    "HELPER FUNCTIONS TO ADD A NEW COLUMN TO THE test_replies_and_quotes DATAFRAME IN PARALLEL."
   ]
  },
  {
   "cell_type": "code",
   "execution_count": 71,
   "metadata": {},
   "outputs": [],
   "source": [
    "test_replies_and_quotes = replies_and_quotes.head(1000).copy()"
   ]
  },
  {
   "cell_type": "code",
   "execution_count": 72,
   "metadata": {},
   "outputs": [],
   "source": [
    "counter = 0\n",
    "progress = 0.001"
   ]
  },
  {
   "cell_type": "code",
   "execution_count": 73,
   "metadata": {},
   "outputs": [],
   "source": [
    "def print_progress():\n",
    "    global counter\n",
    "    global progress\n",
    "    global test_replies_and_quotes\n",
    "    ipython = get_ipython()\n",
    "    if ipython is not None:\n",
    "        counter = ipython.user_ns['counter']\n",
    "        progress = ipython.user_ns['progress']\n",
    "        test_replies_and_quotes = ipython.user_ns['test_replies_and_quotes']\n",
    "\n",
    "    counter += 1\n",
    "\n",
    "    if ((counter / len(test_replies_and_quotes)) >= progress):\n",
    "        print(f\"{counter} / {len(test_replies_and_quotes)} replies or quotes processed.\\n\")\n",
    "        progress += 0.001\n",
    "    if counter == len(test_replies_and_quotes):\n",
    "        print(\"New column inserted in the replies_and_quotes dataframe.\\n\")"
   ]
  },
  {
   "cell_type": "code",
   "execution_count": 74,
   "metadata": {},
   "outputs": [],
   "source": [
    "def supports_source_tweet(text):\n",
    "    if not isinstance(text, str):\n",
    "        return '#'\n",
    "    \n",
    "    sentiment = senti.getSentiment(text, score='scale')[0]\n",
    "\n",
    "    # print_progress()\n",
    "    \n",
    "    return sentiment > 0"
   ]
  },
  {
   "cell_type": "code",
   "execution_count": 75,
   "metadata": {},
   "outputs": [],
   "source": [
    "# Define a wrapper function that applies supports_source-tweet to a chunk of data\n",
    "def apply_function_to_chunk(chunk):\n",
    "    return chunk.apply(supports_source_tweet)"
   ]
  },
  {
   "cell_type": "code",
   "execution_count": 76,
   "metadata": {},
   "outputs": [],
   "source": [
    "def add_support_source_tweet_column_parallel(replies_and_quotes):\n",
    "    # Split the DataFrame into chunks for parallel processing\n",
    "    num_chunks = multiprocessing.cpu_count()\n",
    "    chunks = np.array_split(replies_and_quotes['text'], num_chunks)\n",
    "\n",
    "    # Create a multiprocessing pool and apply the function to each chunk in parallel\n",
    "    with multiprocessing.Pool(processes=num_chunks) as pool:\n",
    "        results = pool.map(apply_function_to_chunk, chunks)\n",
    "\n",
    "    # Concatenate the results back into a single DataFrame\n",
    "    # replies_and_quotes['supports_source_tweet'] = pd.concat(results)\n",
    "    replies_and_quotes.insert(replies_and_quotes.columns.get_loc('text') + 1, 'supports_source_tweet', pd.concat(results))\n",
    "\n",
    "    return replies_and_quotes"
   ]
  },
  {
   "attachments": {},
   "cell_type": "markdown",
   "metadata": {},
   "source": [
    "PARALLEL EXECUTION. Benchmark tests (my machine): 1000 recordings => 1m11.1s"
   ]
  },
  {
   "cell_type": "code",
   "execution_count": 77,
   "metadata": {},
   "outputs": [],
   "source": [
    "# test_replies_and_quotes_parallel = add_support_source_tweet_column_parallel(test_replies_and_quotes)"
   ]
  },
  {
   "attachments": {},
   "cell_type": "markdown",
   "metadata": {},
   "source": [
    "SEQUENTIAL EXECUTION. Benchmark tests (my machine): 1000 recordings => 2m30.0s"
   ]
  },
  {
   "cell_type": "code",
   "execution_count": 78,
   "metadata": {},
   "outputs": [],
   "source": [
    "test_replies_and_quotes = replies_and_quotes.head(1000).copy()"
   ]
  },
  {
   "cell_type": "code",
   "execution_count": 79,
   "metadata": {},
   "outputs": [],
   "source": [
    "# test_replies_and_quotes.insert(test_replies_and_quotes.columns.get_loc('text') + 1, 'supports_source_tweet', test_replies_and_quotes['text'].apply(supports_source_tweet))"
   ]
  },
  {
   "attachments": {},
   "cell_type": "markdown",
   "metadata": {},
   "source": [
    "CHECK IF RESULTS ARE THE SAME FOR BOTH METHODS"
   ]
  },
  {
   "cell_type": "code",
   "execution_count": 80,
   "metadata": {},
   "outputs": [],
   "source": [
    "# test_replies_and_quotes_parallel.equals(test_replies_and_quotes)"
   ]
  },
  {
   "attachments": {},
   "cell_type": "markdown",
   "metadata": {},
   "source": [
    "CODE TO MODIFY THE ORIGINAL DATAFRAME (WITH ALL REPLIES AND QUOTES), WITH AN ADDED COLUMN NAMED 'supports_source_tweet', USING PARALLEL COMPUTATION, AS WELL AS SAVE IT TO A .CSV FILE (UNCOMMENT CELLS TO RUN)\n",
    "\n",
    "NOTE: There are almost 1 million replies and quotes in the original dataframe, so the following statement is extremely time-consuming."
   ]
  },
  {
   "cell_type": "code",
   "execution_count": 81,
   "metadata": {},
   "outputs": [],
   "source": [
    "# replies_and_quotes = add_support_source_tweet_column_parallel(replies_and_quotes)"
   ]
  },
  {
   "cell_type": "code",
   "execution_count": 82,
   "metadata": {},
   "outputs": [],
   "source": [
    "# path_to_replies_and_quotes = files_path + '/replies_and_quotes_modified.csv'"
   ]
  },
  {
   "cell_type": "code",
   "execution_count": 83,
   "metadata": {},
   "outputs": [],
   "source": [
    "# # save the DataFrame to a CSV file\n",
    "# replies_and_quotes.to_csv(path_to_replies_and_quotes, index=False)"
   ]
  },
  {
   "cell_type": "code",
   "execution_count": null,
   "metadata": {},
   "outputs": [],
   "source": []
  },
  {
   "cell_type": "code",
   "execution_count": null,
   "metadata": {},
   "outputs": [],
   "source": []
  },
  {
   "attachments": {},
   "cell_type": "markdown",
   "metadata": {},
   "source": [
    "In order to calculate the distribution of the tweets per hour, I will parse the \"created_at\" column, extract the hour property and create a separate column in each dataframe. I will place it next to the \"created_at\" column in order to be easily verifiable. Data originates frmo the Twitter API, so it comes in a standard ISO 8601 format, which can be easily parsed using the parser module from the dateutil package.\n",
    "\n",
    "Note: the cell below runs for approximately 2m30' on my machine (~25-30 seconds for each file)."
   ]
  },
  {
   "cell_type": "code",
   "execution_count": 84,
   "metadata": {},
   "outputs": [],
   "source": [
    "# for key, day in days.items():\n",
    "#     if 'hour' not in day.columns:\n",
    "#         day.insert(1, 'hour', day['created_at'].apply(lambda date: parser.parse(date).hour))\n",
    "#         print(f\"New 'hour' column inserted in the {key} dataframe\")"
   ]
  },
  {
   "cell_type": "code",
   "execution_count": 85,
   "metadata": {},
   "outputs": [],
   "source": [
    "# for key, day in days.items():\n",
    "#     if 'hour' not in day.columns:\n",
    "#         hours = []\n",
    "#         for time in day.loc[:,\"created_at\"]:\n",
    "#             hour = parser.parse(time).hour\n",
    "#             hours.append(hour)\n",
    "#         day.insert(1, \"hour\", hours, True)\n",
    "#         print(key + \" - added 'hour' column\")\n"
   ]
  },
  {
   "attachments": {},
   "cell_type": "markdown",
   "metadata": {},
   "source": [
    "The final distribution is made up of the sum of all individual days' distributions. I save a figure in the graphs/ folder for each day, as well as an overall distribution."
   ]
  },
  {
   "cell_type": "code",
   "execution_count": 86,
   "metadata": {},
   "outputs": [],
   "source": [
    "# final_distribution = pd.Series(0, index=days['1-3-2021'].loc[:,'hour'].sort_values(ascending=True).unique())\n",
    "# for key, day in days.items():\n",
    "#     hour_column_ascending = day.loc[:,\"hour\"].sort_values(ascending=True)\n",
    "#     distribution = hour_column_ascending.value_counts()[hour_column_ascending.unique()]\n",
    "#     final_distribution = final_distribution.add(distribution)\n",
    "#     axes = distribution.plot(kind='bar')\n",
    "#     figure_path = f\"{covaxxy_longitudinal_analysis_graphs}/{key}_distribution.png\"\n",
    "#     axes.figure.savefig(figure_path)\n",
    "#     plt.close()\n",
    "# axes = final_distribution.plot(kind='bar')\n",
    "# figure_path = f\"{covaxxy_longitudinal_analysis_graphs}/overall_distribution.png\"\n",
    "# axes.figure.savefig(figure_path)\n",
    "# plt.close()\n"
   ]
  },
  {
   "cell_type": "code",
   "execution_count": null,
   "metadata": {},
   "outputs": [],
   "source": []
  }
 ],
 "metadata": {
  "kernelspec": {
   "display_name": "venv",
   "language": "python",
   "name": "python3"
  },
  "language_info": {
   "codemirror_mode": {
    "name": "ipython",
    "version": 3
   },
   "file_extension": ".py",
   "mimetype": "text/x-python",
   "name": "python",
   "nbconvert_exporter": "python",
   "pygments_lexer": "ipython3",
   "version": "3.10.8"
  },
  "orig_nbformat": 4,
  "vscode": {
   "interpreter": {
    "hash": "243101c165aceacaf115b49fc146265224cf91574f24df3021157e0d2dabdb2b"
   }
  }
 },
 "nbformat": 4,
 "nbformat_minor": 2
}
